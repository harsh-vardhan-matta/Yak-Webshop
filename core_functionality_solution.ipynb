{
 "cells": [
  {
   "cell_type": "markdown",
   "metadata": {},
   "source": [
    "Importing useful packages"
   ]
  },
  {
   "cell_type": "code",
   "execution_count": 4,
   "metadata": {},
   "outputs": [
    {
     "name": "stdout",
     "output_type": "stream",
     "text": [
      "Hello world \n"
     ]
    }
   ],
   "source": [
    "import json\n",
    "from datetime import timedelta, datetime"
   ]
  },
  {
   "cell_type": "markdown",
   "metadata": {},
   "source": [
    "Function a function to read the json file"
   ]
  },
  {
   "cell_type": "code",
   "execution_count": 28,
   "metadata": {},
   "outputs": [
    {
     "name": "stdout",
     "output_type": "stream",
     "text": [
      "File loaded successfully\n"
     ]
    }
   ],
   "source": [
    "# Function to read the JSON file containing herd information\n",
    "def read_herd_information(file_path):\n",
    "    with open(file_path, 'r') as file:\n",
    "        herd_data = json.load(file)\n",
    "    return herd_data\n",
    "print(\"File loaded successfully\")"
   ]
  },
  {
   "cell_type": "markdown",
   "metadata": {},
   "source": [
    "Function - >  provide herd_view before and after elapsed time t"
   ]
  },
  {
   "cell_type": "code",
   "execution_count": 31,
   "metadata": {},
   "outputs": [],
   "source": [
    "def herd_view_after_elapsed_t(herd_info, elapsed_days):\n",
    "    updated_herd = herd_info.copy()\n",
    "    print(\"Yak Details Before Elapsed Time:\")\n",
    "    # Display herd_info before elapsed time\n",
    "    print(updated_herd)  \n",
    "    # Printing for first 3 samples\n",
    "    count = 0\n",
    "    for yak in updated_herd['herd']:\n",
    "        if count < 3:\n",
    "            print(f\"Yak: {yak['name']}\")\n",
    "            print(f\"Age before elapsed time: {yak['age']}\" + \" years\")\n",
    "            count += 1\n",
    "        else: \n",
    "            break\n",
    "\n",
    "    for yak in updated_herd['herd']:\n",
    "        \n",
    "        yak['age'] = round((yak['age'] + elapsed_days/365), 2)\n",
    "       \n",
    "        # assuming shave happens annually (last_shaved_age = current_age - 1)\n",
    "        yak['last_shaved_age'] = round(yak['age'] - 1, 2)  # Assuming shaving happens yearly\n",
    "\n",
    "    print(\"\\nYak Details After Elapsed Time:\")\n",
    "    count_here = 0\n",
    "    for yak in updated_herd['herd']:\n",
    "        if count_here < 3:    \n",
    "            print(f\"Yak: {yak['name']}\")\n",
    "            print(f\"Age after elapsed time: {yak['age']}\" + \" years\")\n",
    "            print(f\"Last shaved age after elapsed time: {yak.get('last_shaved_age', 'Not Available')}\", \"years\")\n",
    "            count_here +=1\n",
    "        else:\n",
    "            break\n",
    "    return\n"
   ]
  },
  {
   "cell_type": "code",
   "execution_count": 30,
   "metadata": {},
   "outputs": [
    {
     "name": "stdout",
     "output_type": "stream",
     "text": [
      "Yak Details Before Elapsed Time:\n",
      "{'herd': [{'name': 'Betty-1', 'age': 100, 'health': 'special_health', 'behavior': 'special_behavior'}, {'name': 'Betty-2', 'age': 5.9, 'health': 'excellent', 'behavior': 'positive'}, {'name': 'Betty-3', 'age': 18.2, 'health': 'fair', 'behavior': 'stubborn'}, {'name': 'Betty-4', 'age': 23.3, 'health': 'fair', 'behavior': 'stubborn'}, {'name': 'Betty-5', 'age': 26.8, 'health': 'poor', 'behavior': 'negative'}, {'name': 'Betty-6', 'age': 22.7, 'health': 'fair', 'behavior': 'stubborn'}, {'name': 'Betty-7', 'age': 4.8, 'health': 'excellent', 'behavior': 'playful'}, {'name': 'Betty-8', 'age': 24.8, 'health': 'fair', 'behavior': 'stubborn'}, {'name': 'Betty-9', 'age': 28.2, 'health': 'poor', 'behavior': 'negative'}, {'name': 'Betty-10', 'age': 4.9, 'health': 'excellent', 'behavior': 'playful'}, {'name': 'Betty-11', 'age': 100, 'health': 'special_health', 'behavior': 'special_behavior'}, {'name': 'Betty-12', 'age': 27.0, 'health': 'poor', 'behavior': 'negative'}, {'name': 'Betty-13', 'age': 7.6, 'health': 'excellent', 'behavior': 'positive'}, {'name': 'Betty-14', 'age': 2.6, 'health': 'excellent', 'behavior': 'playful'}, {'name': 'Betty-15', 'age': 24.8, 'health': 'fair', 'behavior': 'stubborn'}, {'name': 'Betty-16', 'age': 18.8, 'health': 'fair', 'behavior': 'stubborn'}, {'name': 'Betty-17', 'age': 15.7, 'health': 'fair', 'behavior': 'stubborn'}, {'name': 'Betty-18', 'age': 26.8, 'health': 'poor', 'behavior': 'negative'}, {'name': 'Betty-19', 'age': 25.7, 'health': 'poor', 'behavior': 'negative'}, {'name': 'Betty-20', 'age': 7.1, 'health': 'excellent', 'behavior': 'positive'}, {'name': 'Betty-21', 'age': 100, 'health': 'special_health', 'behavior': 'special_behavior'}, {'name': 'Betty-22', 'age': 15.2, 'health': 'fair', 'behavior': 'stubborn'}, {'name': 'Betty-23', 'age': 12.7, 'health': 'good', 'behavior': 'calm'}, {'name': 'Betty-24', 'age': 13.1, 'health': 'good', 'behavior': 'calm'}, {'name': 'Betty-25', 'age': 4.8, 'health': 'excellent', 'behavior': 'playful'}, {'name': 'Betty-26', 'age': 12.3, 'health': 'good', 'behavior': 'calm'}, {'name': 'Betty-27', 'age': 6.4, 'health': 'excellent', 'behavior': 'positive'}, {'name': 'Betty-28', 'age': 3.7, 'health': 'excellent', 'behavior': 'playful'}, {'name': 'Betty-29', 'age': 18.0, 'health': 'fair', 'behavior': 'stubborn'}, {'name': 'Betty-30', 'age': 4.6, 'health': 'excellent', 'behavior': 'playful'}, {'name': 'Betty-31', 'age': 100, 'health': 'special_health', 'behavior': 'special_behavior'}, {'name': 'Betty-32', 'age': 20.5, 'health': 'fair', 'behavior': 'stubborn'}, {'name': 'Betty-33', 'age': 24.6, 'health': 'fair', 'behavior': 'stubborn'}, {'name': 'Betty-34', 'age': 3.0, 'health': 'excellent', 'behavior': 'playful'}, {'name': 'Betty-35', 'age': 21.6, 'health': 'fair', 'behavior': 'stubborn'}, {'name': 'Betty-36', 'age': 1.8, 'health': 'excellent', 'behavior': 'playful'}, {'name': 'Betty-37', 'age': 17.5, 'health': 'fair', 'behavior': 'stubborn'}, {'name': 'Betty-38', 'age': 9.4, 'health': 'excellent', 'behavior': 'positive'}, {'name': 'Betty-39', 'age': 14.5, 'health': 'good', 'behavior': 'calm'}, {'name': 'Betty-40', 'age': 17.6, 'health': 'fair', 'behavior': 'stubborn'}, {'name': 'Betty-41', 'age': 100, 'health': 'special_health', 'behavior': 'special_behavior'}, {'name': 'Betty-42', 'age': 9.4, 'health': 'excellent', 'behavior': 'positive'}, {'name': 'Betty-43', 'age': 11.1, 'health': 'good', 'behavior': 'calm'}, {'name': 'Betty-44', 'age': 2.0, 'health': 'excellent', 'behavior': 'playful'}, {'name': 'Betty-45', 'age': 15.7, 'health': 'fair', 'behavior': 'stubborn'}, {'name': 'Betty-46', 'age': 7.9, 'health': 'excellent', 'behavior': 'positive'}, {'name': 'Betty-47', 'age': 1.9, 'health': 'excellent', 'behavior': 'playful'}, {'name': 'Betty-48', 'age': 27.0, 'health': 'poor', 'behavior': 'negative'}, {'name': 'Betty-49', 'age': 7.3, 'health': 'excellent', 'behavior': 'positive'}, {'name': 'Betty-50', 'age': 11.1, 'health': 'good', 'behavior': 'calm'}, {'name': 'Betty-51', 'age': 100, 'health': 'special_health', 'behavior': 'special_behavior'}, {'name': 'Betty-52', 'age': 18.4, 'health': 'fair', 'behavior': 'stubborn'}, {'name': 'Betty-53', 'age': 22.0, 'health': 'fair', 'behavior': 'stubborn'}, {'name': 'Betty-54', 'age': 16.4, 'health': 'fair', 'behavior': 'stubborn'}, {'name': 'Betty-55', 'age': 21.0, 'health': 'fair', 'behavior': 'stubborn'}, {'name': 'Betty-56', 'age': 20.1, 'health': 'fair', 'behavior': 'stubborn'}, {'name': 'Betty-57', 'age': 8.3, 'health': 'excellent', 'behavior': 'positive'}, {'name': 'Betty-58', 'age': 7.7, 'health': 'excellent', 'behavior': 'positive'}, {'name': 'Betty-59', 'age': 9.8, 'health': 'excellent', 'behavior': 'positive'}, {'name': 'Betty-60', 'age': 23.9, 'health': 'fair', 'behavior': 'stubborn'}, {'name': 'Betty-61', 'age': 100, 'health': 'special_health', 'behavior': 'special_behavior'}, {'name': 'Betty-62', 'age': 1.8, 'health': 'excellent', 'behavior': 'playful'}, {'name': 'Betty-63', 'age': 21.7, 'health': 'fair', 'behavior': 'stubborn'}, {'name': 'Betty-64', 'age': 23.5, 'health': 'fair', 'behavior': 'stubborn'}, {'name': 'Betty-65', 'age': 21.6, 'health': 'fair', 'behavior': 'stubborn'}, {'name': 'Betty-66', 'age': 5.1, 'health': 'excellent', 'behavior': 'positive'}, {'name': 'Betty-67', 'age': 1.1, 'health': 'excellent', 'behavior': 'playful'}, {'name': 'Betty-68', 'age': 12.3, 'health': 'good', 'behavior': 'calm'}, {'name': 'Betty-69', 'age': 3.3, 'health': 'excellent', 'behavior': 'playful'}, {'name': 'Betty-70', 'age': 4.3, 'health': 'excellent', 'behavior': 'playful'}, {'name': 'Betty-71', 'age': 100, 'health': 'special_health', 'behavior': 'special_behavior'}, {'name': 'Betty-72', 'age': 28.1, 'health': 'poor', 'behavior': 'negative'}, {'name': 'Betty-73', 'age': 16.8, 'health': 'fair', 'behavior': 'stubborn'}, {'name': 'Betty-74', 'age': 25.7, 'health': 'poor', 'behavior': 'negative'}, {'name': 'Betty-75', 'age': 9.7, 'health': 'excellent', 'behavior': 'positive'}, {'name': 'Betty-76', 'age': 14.3, 'health': 'good', 'behavior': 'calm'}, {'name': 'Betty-77', 'age': 17.5, 'health': 'fair', 'behavior': 'stubborn'}, {'name': 'Betty-78', 'age': 16.7, 'health': 'fair', 'behavior': 'stubborn'}, {'name': 'Betty-79', 'age': 21.4, 'health': 'fair', 'behavior': 'stubborn'}, {'name': 'Betty-80', 'age': 12.7, 'health': 'good', 'behavior': 'calm'}, {'name': 'Betty-81', 'age': 100, 'health': 'special_health', 'behavior': 'special_behavior'}, {'name': 'Betty-82', 'age': 23.1, 'health': 'fair', 'behavior': 'stubborn'}, {'name': 'Betty-83', 'age': 8.3, 'health': 'excellent', 'behavior': 'positive'}, {'name': 'Betty-84', 'age': 16.5, 'health': 'fair', 'behavior': 'stubborn'}, {'name': 'Betty-85', 'age': 2.4, 'health': 'excellent', 'behavior': 'playful'}, {'name': 'Betty-86', 'age': 19.0, 'health': 'fair', 'behavior': 'stubborn'}, {'name': 'Betty-87', 'age': 16.0, 'health': 'fair', 'behavior': 'stubborn'}, {'name': 'Betty-88', 'age': 21.3, 'health': 'fair', 'behavior': 'stubborn'}, {'name': 'Betty-89', 'age': 14.8, 'health': 'good', 'behavior': 'calm'}, {'name': 'Betty-90', 'age': 15.9, 'health': 'fair', 'behavior': 'stubborn'}, {'name': 'Betty-91', 'age': 100, 'health': 'special_health', 'behavior': 'special_behavior'}, {'name': 'Betty-92', 'age': 13.5, 'health': 'good', 'behavior': 'calm'}, {'name': 'Betty-93', 'age': 5.7, 'health': 'excellent', 'behavior': 'positive'}, {'name': 'Betty-94', 'age': 25.9, 'health': 'poor', 'behavior': 'negative'}, {'name': 'Betty-95', 'age': 3.7, 'health': 'excellent', 'behavior': 'playful'}, {'name': 'Betty-96', 'age': 29.6, 'health': 'poor', 'behavior': 'negative'}, {'name': 'Betty-97', 'age': 15.8, 'health': 'fair', 'behavior': 'stubborn'}, {'name': 'Betty-98', 'age': 22.0, 'health': 'fair', 'behavior': 'stubborn'}, {'name': 'Betty-99', 'age': 10.0, 'health': 'good', 'behavior': 'calm'}, {'name': 'Betty-100', 'age': 14.9, 'health': 'good', 'behavior': 'calm'}]}\n",
      "Yak: Betty-1\n",
      "Age before elapsed time: 100 years\n",
      "Yak: Betty-2\n",
      "Age before elapsed time: 5.9 years\n",
      "Yak: Betty-3\n",
      "Age before elapsed time: 18.2 years\n",
      "\n",
      "Yak Details After Elapsed Time:\n",
      "Yak: Betty-1\n",
      "Age after elapsed time: 100.08 years\n",
      "Last shaved age after elapsed time: 99.08 years\n",
      "Yak: Betty-2\n",
      "Age after elapsed time: 5.98 years\n",
      "Last shaved age after elapsed time: 4.98 years\n",
      "Yak: Betty-3\n",
      "Age after elapsed time: 18.28 years\n",
      "Last shaved age after elapsed time: 17.28 years\n"
     ]
    }
   ],
   "source": [
    "# FUNCTION_CALL\n",
    "file_path = 'D:\\Datasets\\Yak_Webshop_1\\json_files\\sample_diverse_dataset.json'\n",
    "herd_information = read_herd_information(file_path)\n",
    "elapsed_time_days = 30\n",
    "herd_management = herd_view_after_elapsed_t(herd_information, elapsed_time_days)"
   ]
  },
  {
   "cell_type": "markdown",
   "metadata": {},
   "source": [
    "Function - > stock management after T days"
   ]
  },
  {
   "cell_type": "code",
   "execution_count": 32,
   "metadata": {},
   "outputs": [],
   "source": [
    "def stock_view_after_t(herd_info, elapsed_days, stock_data):\n",
    "    updated_herd_info = herd_info.copy()  # Just assuming this is updated somewhere in the function\n",
    "    \n",
    "    # Extract initial stock values\n",
    "    initial_milk_stock = stock_data['milk']\n",
    "    initial_skins_stock = stock_data['skins']\n",
    "\n",
    "    # Placeholder calculation for milk and skins stock after T days \n",
    "    milk_stock_after_t = initial_milk_stock + (elapsed_days * 10)  # Assumption explained in next cell\n",
    "    skins_stock_after_t = initial_skins_stock + (elapsed_days // 5)  # Assumption explained in next cell\n",
    "    \n",
    "    # Displaying the stock of milk and skins before elapsed days\n",
    "    print(f\"Stock of Milk before {elapsed_days} days: {initial_milk_stock}\" + \" litres\")\n",
    "    print(f\"Stock of Skins before {elapsed_days} days: {initial_skins_stock}\")\n",
    "    \n",
    "    # Displaying the stock of milk and skins after T days\n",
    "    print(f\"\\nStock of Milk after {elapsed_days} days: {milk_stock_after_t}\" + \" litres\")\n",
    "    print(f\"Stock of Skins after {elapsed_days} days: {skins_stock_after_t}\")\n",
    "\n",
    "    return \n"
   ]
  },
  {
   "cell_type": "code",
   "execution_count": 33,
   "metadata": {},
   "outputs": [
    {
     "name": "stdout",
     "output_type": "stream",
     "text": [
      "Stock of Milk before 30 days: 1104.48 litres\n",
      "Stock of Skins before 30 days: 3\n",
      "\n",
      "Stock of Milk after 30 days: 1404.48 litres\n",
      "Stock of Skins after 30 days: 9\n"
     ]
    }
   ],
   "source": [
    "# FUNCTION_CALL\n",
    "stock_data = {\"milk\": 1104.480, \"skins\": 3} \n",
    "file_path = 'D:\\Datasets\\Yak_Webshop_1\\json_files\\sample_diverse_dataset.json'\n",
    "herd_information = read_herd_information(file_path)\n",
    "elapsed_time_days = 30\n",
    "view_stocks = stock_view_after_t(herd_information, elapsed_time_days, stock_data)"
   ]
  },
  {
   "cell_type": "code",
   "execution_count": null,
   "metadata": {},
   "outputs": [],
   "source": [
    "'''\n",
    "milk_stock_after_t = initial_milk_stock + (elapsed_days * 10) \n",
    "skins_stock_after_t = initial_skins_stock + (elapsed_days // 5)\n",
    "\n",
    "First placeholder logic assumes that, over each day (elapsed_days), \n",
    "there might be an arbitrary increase in milk production or accumulation.\n",
    "\n",
    "In a real-world scenario, calculating stock changes might involve various factors, \n",
    "such as production rates, consumption, external supply, and other dynamic elements\n",
    "that influence the stock.\n",
    "\n",
    "For a realistic model, you would need to use actual data or formulas based on the specific factors\n",
    "influencing milk production, consumption,\n",
    "and any other relevant variables that impact the stock over time.\n",
    "'''"
   ]
  },
  {
   "cell_type": "markdown",
   "metadata": {},
   "source": [
    "Order Fulfillment - > checking stock availability and returning appropriate HTTP status codes and order details"
   ]
  },
  {
   "cell_type": "code",
   "execution_count": 34,
   "metadata": {},
   "outputs": [],
   "source": [
    "import json\n",
    "\n",
    "# Function for order fulfillment checking stock availability\n",
    "def order_fulfillment(milk_stock, skins_stock, requested_milk, requested_skins):\n",
    "    if milk_stock >= requested_milk and skins_stock >= requested_skins:\n",
    "        return {\"status\": 200, \"message\": \"Order Fulfilled\", \"details\": f\"Ordered {requested_milk} units of milk and {requested_skins} skins\"}\n",
    "    elif milk_stock > 0 and skins_stock > 0:\n",
    "        milk_fulfilled = min(milk_stock, requested_milk)\n",
    "        skins_fulfilled = min(skins_stock, requested_skins)\n",
    "        return {\n",
    "            \"status\": 206,\n",
    "            \"message\": \"Partial Order Fulfilled\",\n",
    "            \"details\": f\"Partially fulfilled with {milk_fulfilled} units of milk and {skins_fulfilled} skins\"\n",
    "        }\n",
    "    else:\n",
    "        return {\"status\": 404, \"message\": \"Insufficient Stock\", \"details\": \"Stock unavailable for the order\"}\n",
    "\n",
    "# Load order data from 'sample_order_data.json'\n",
    "\n",
    "with open('D:\\Datasets\\Yak_Webshop_1\\json_files\\sample_order_data.json', 'r') as order_file:\n",
    "    order_data = json.load(order_file)['samples']\n",
    "\n",
    "# Load stock data from 'sample_stock_data.json'\n",
    "with open('D:\\Datasets\\Yak_Webshop_1\\json_files\\sample_stock_data.json', 'r') as stock_file:\n",
    "    stock_data = json.load(stock_file)['stock_samples']\n",
    "\n",
    "# Process orders and check corresponding stock for each customer's order\n",
    "fulfillment_results = []\n",
    "\n",
    "for customer_order, stock_sample in zip(order_data, stock_data):\n",
    "    customer = customer_order['customer']\n",
    "    requested_milk = customer_order['order']['milk']\n",
    "    requested_skins = customer_order['order']['skins']\n",
    "\n",
    "    milk_stock = stock_sample['milk']\n",
    "    skins_stock = stock_sample['skins']\n",
    "\n",
    "    result = order_fulfillment(milk_stock, skins_stock, requested_milk, requested_skins)\n",
    "\n",
    "    fulfillment_results.append({\"customer\": customer, \"result\": result})\n",
    "\n",
    "# Save results to another JSON file\n",
    "with open('customer_order_fulfillment_results.json', 'w') as result_file:\n",
    "    json.dump(fulfillment_results, result_file, indent=2)\n"
   ]
  }
 ],
 "metadata": {
  "kernelspec": {
   "display_name": "base",
   "language": "python",
   "name": "python3"
  },
  "language_info": {
   "codemirror_mode": {
    "name": "ipython",
    "version": 3
   },
   "file_extension": ".py",
   "mimetype": "text/x-python",
   "name": "python",
   "nbconvert_exporter": "python",
   "pygments_lexer": "ipython3",
   "version": "3.11.6"
  }
 },
 "nbformat": 4,
 "nbformat_minor": 2
}
