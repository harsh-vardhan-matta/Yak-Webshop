{
 "cells": [
  {
   "cell_type": "markdown",
   "metadata": {},
   "source": [
    "Importing useful packages"
   ]
  },
  {
   "cell_type": "code",
   "execution_count": 3,
   "metadata": {},
   "outputs": [
    {
     "name": "stdout",
     "output_type": "stream",
     "text": [
      "Hello world \n"
     ]
    }
   ],
   "source": [
    "import json\n",
    "from datetime import timedelta, datetime\n",
    "print(\"Hello world \")"
   ]
  },
  {
   "cell_type": "markdown",
   "metadata": {},
   "source": [
    "Function a function to read the json file"
   ]
  },
  {
   "cell_type": "code",
   "execution_count": 4,
   "metadata": {},
   "outputs": [
    {
     "name": "stdout",
     "output_type": "stream",
     "text": [
      "Implemented & Understood this function_1\n"
     ]
    }
   ],
   "source": [
    "# Function to read the JSON file containing herd information\n",
    "def read_herd_information(file_path):\n",
    "    with open(file_path, 'r') as file:\n",
    "        herd_data = json.load(file)\n",
    "    return herd_data\n",
    "print(\"Implemented & Understood this function_1\")"
   ]
  },
  {
   "cell_type": "markdown",
   "metadata": {},
   "source": [
    "Function to provide herd_view before and after elapsed time t"
   ]
  },
  {
   "cell_type": "code",
   "execution_count": 5,
   "metadata": {},
   "outputs": [
    {
     "name": "stdout",
     "output_type": "stream",
     "text": [
      "Function herd_view_after_elapsed_t created\n"
     ]
    }
   ],
   "source": [
    "def herd_view_after_elapsed_t(herd_info, elapsed_days):\n",
    "    updated_herd = herd_info.copy()\n",
    "    print(\"Yak Details Before Elapsed Time:\")\n",
    "    count = 0\n",
    "    print(updated_herd)  # Display herd_info before elapsed time\n",
    "    for yak in updated_herd['herd']:\n",
    "        if count < 3:\n",
    "            print(f\"Yak: {yak['name']}\")\n",
    "            print(f\"Age before elapsed time: {yak['age']}\" + \" years\")\n",
    "            count += 1\n",
    "        else: \n",
    "            break\n",
    "\n",
    "    for yak in updated_herd['herd']:\n",
    "        \n",
    "        yak['age'] = (yak['age'] + elapsed_days)\n",
    "       \n",
    "        # assuming shave happens annually (last_shaved_age = current_age - 1)\n",
    "        yak['last_shaved_age'] = round(yak['age'] - 1, 1)  # Assuming shaving happens yearly\n",
    "\n",
    "    print(\"\\nYak Details After Elapsed Time:\")\n",
    "    count_here = 0\n",
    "    for yak in updated_herd['herd']:\n",
    "        if count_here < 3:    \n",
    "            print(f\"Yak: {yak['name']}\")\n",
    "            print(f\"Age after elapsed time: {yak['age']}\" + \"years\")\n",
    "            print(f\"Last shaved age after elapsed time: {yak.get('last_shaved_age', 'Not Available')}\")\n",
    "            count_here +=1\n",
    "        else:\n",
    "            break\n",
    "    return\n",
    "print(\"Function herd_view_after_elapsed_t created\")\n"
   ]
  },
  {
   "cell_type": "code",
   "execution_count": null,
   "metadata": {},
   "outputs": [],
   "source": [
    "# Example usage\n",
    "file_path = 'D:\\Datasets\\Yak_Webshop_1\\json_files\\sample_diverse_dataset.json'\n",
    "herd_information = read_herd_information(file_path)\n",
    "elapsed_time_days = 30\n",
    "\n",
    "herd_management = herd_view_after_elapsed_t(herd_information, elapsed_time_days)"
   ]
  },
  {
   "cell_type": "markdown",
   "metadata": {},
   "source": [
    "Function to calculate stock management after T days - Read assumptions after the function"
   ]
  },
  {
   "cell_type": "code",
   "execution_count": 16,
   "metadata": {},
   "outputs": [],
   "source": [
    "def stock_view_after_t(herd_info, elapsed_days, stock_data):\n",
    "    updated_herd_info = herd_info.copy()  # Just assuming this is updated somewhere in the function\n",
    "    \n",
    "    # Extract initial stock values\n",
    "    initial_milk_stock = stock_data['milk']\n",
    "    initial_skins_stock = stock_data['skins']\n",
    "\n",
    "    # Placeholder calculation for milk and skins stock after T days \n",
    "    milk_stock_after_t = initial_milk_stock + (elapsed_days * 10)  # Assumption explained in next cell\n",
    "    skins_stock_after_t = initial_skins_stock + (elapsed_days // 5)  # Assumption explained in next cell\n",
    "    \n",
    "    # Displaying the stock of milk and skins before elapsed days\n",
    "    print(f\"Stock of Milk before {elapsed_days} days: {initial_milk_stock}\" + \" litres\")\n",
    "    print(f\"Stock of Skins before {elapsed_days} days: {initial_skins_stock}\")\n",
    "    \n",
    "    # Displaying the stock of milk and skins after T days\n",
    "    print(f\"\\nStock of Milk after {elapsed_days} days: {milk_stock_after_t}\" + \" litres\")\n",
    "    print(f\"Stock of Skins after {elapsed_days} days: {skins_stock_after_t}\")\n",
    "\n",
    "    return \n"
   ]
  },
  {
   "cell_type": "code",
   "execution_count": 17,
   "metadata": {},
   "outputs": [
    {
     "name": "stdout",
     "output_type": "stream",
     "text": [
      "Stock of Milk before 30 days: 1104.48 litres\n",
      "Stock of Skins before 30 days: 3\n",
      "\n",
      "Stock of Milk after 30 days: 1404.48 litres\n",
      "Stock of Skins after 30 days: 9\n"
     ]
    }
   ],
   "source": [
    "# function call\n",
    "stock_data = {\"milk\": 1104.480, \"skins\": 3} \n",
    "file_path = 'D:\\Datasets\\Yak_Webshop_1\\json_files\\sample_diverse_dataset.json'\n",
    "herd_information = read_herd_information(file_path)\n",
    "elapsed_time_days = 30\n",
    "view_stocks = stock_view_after_t(herd_information, elapsed_time_days, stock_data)"
   ]
  },
  {
   "cell_type": "code",
   "execution_count": null,
   "metadata": {},
   "outputs": [],
   "source": [
    "'''\n",
    "milk_stock_after_t = initial_milk_stock + (elapsed_days * 10) \n",
    "skins_stock_after_t = initial_skins_stock + (elapsed_days // 5)\n",
    "\n",
    "First placeholder logic assumes that, over each day (elapsed_days), \n",
    "there might be an arbitrary increase in milk production or accumulation.\n",
    "\n",
    "In a real-world scenario, calculating stock changes might involve various factors, \n",
    "such as production rates, consumption, external supply, and other dynamic elements\n",
    "that influence the stock.\n",
    "\n",
    "For a realistic model, you would need to use actual data or formulas based on the specific factors\n",
    "influencing milk production, consumption,\n",
    "and any other relevant variables that impact the stock over time.\n",
    "'''"
   ]
  },
  {
   "cell_type": "markdown",
   "metadata": {},
   "source": [
    "Order Fulfillment: \n",
    "· Implement order fulfillment, checking stock availability and returning appropriate HTTP status codes and order details"
   ]
  },
  {
   "cell_type": "code",
   "execution_count": 6,
   "metadata": {},
   "outputs": [],
   "source": [
    "import json\n",
    "\n",
    "# Function for order fulfillment checking stock availability\n",
    "def order_fulfillment(milk_stock, skins_stock, requested_milk, requested_skins):\n",
    "    if milk_stock >= requested_milk and skins_stock >= requested_skins:\n",
    "        return {\"status\": 200, \"message\": \"Order Fulfilled\", \"details\": f\"Ordered {requested_milk} units of milk and {requested_skins} skins\"}\n",
    "    elif milk_stock > 0 and skins_stock > 0:\n",
    "        milk_fulfilled = min(milk_stock, requested_milk)\n",
    "        skins_fulfilled = min(skins_stock, requested_skins)\n",
    "        return {\n",
    "            \"status\": 206,\n",
    "            \"message\": \"Partial Order Fulfilled\",\n",
    "            \"details\": f\"Partially fulfilled with {milk_fulfilled} units of milk and {skins_fulfilled} skins\"\n",
    "        }\n",
    "    else:\n",
    "        return {\"status\": 404, \"message\": \"Insufficient Stock\", \"details\": \"Stock unavailable for the order\"}\n",
    "\n",
    "# Load order data from 'sample_order_data.json'\n",
    "\n",
    "with open('D:\\Datasets\\Yak_Webshop_1\\json_files\\sample_order_data.json', 'r') as order_file:\n",
    "    order_data = json.load(order_file)['samples']\n",
    "\n",
    "# Load stock data from 'sample_stock_data.json'\n",
    "with open('D:\\Datasets\\Yak_Webshop_1\\json_files\\sample_stock_data.json', 'r') as stock_file:\n",
    "    stock_data = json.load(stock_file)['stock_samples']\n",
    "\n",
    "# Process orders and check corresponding stock for each customer's order\n",
    "fulfillment_results = []\n",
    "\n",
    "for customer_order, stock_sample in zip(order_data, stock_data):\n",
    "    customer = customer_order['customer']\n",
    "    requested_milk = customer_order['order']['milk']\n",
    "    requested_skins = customer_order['order']['skins']\n",
    "\n",
    "    milk_stock = stock_sample['milk']\n",
    "    skins_stock = stock_sample['skins']\n",
    "\n",
    "    result = order_fulfillment(milk_stock, skins_stock, requested_milk, requested_skins)\n",
    "\n",
    "    fulfillment_results.append({\"customer\": customer, \"result\": result})\n",
    "\n",
    "# Save results to another JSON file\n",
    "with open('customer_order_fulfillment_results.json', 'w') as result_file:\n",
    "    json.dump(fulfillment_results, result_file, indent=2)\n"
   ]
  },
  {
   "cell_type": "code",
   "execution_count": null,
   "metadata": {},
   "outputs": [],
   "source": [
    "# Given age and additional days\n",
    "age_years = 100\n",
    "elapsed_days = 30\n",
    "\n",
    "# Convert age to days\n",
    "age_in_days = age_years * 365\n",
    "\n",
    "# Add additional days\n",
    "age_in_days += elapsed_days\n",
    "\n",
    "# Calculate new age in years and remaining days\n",
    "new_age_years = age_in_days // 365\n",
    "remaining_days = age_in_days % 365\n",
    "\n",
    "# Display the new age with \"years\" and \"days\"\n",
    "if remaining_days > 0:\n",
    "    print(f\"New Age: {new_age_years} years {remaining_days} days\")\n",
    "else:\n",
    "    print(f\"New Age: {new_age_years} years\")"
   ]
  },
  {
   "cell_type": "markdown",
   "metadata": {},
   "source": []
  }
 ],
 "metadata": {
  "kernelspec": {
   "display_name": "base",
   "language": "python",
   "name": "python3"
  },
  "language_info": {
   "codemirror_mode": {
    "name": "ipython",
    "version": 3
   },
   "file_extension": ".py",
   "mimetype": "text/x-python",
   "name": "python",
   "nbconvert_exporter": "python",
   "pygments_lexer": "ipython3",
   "version": "3.11.6"
  }
 },
 "nbformat": 4,
 "nbformat_minor": 2
}
