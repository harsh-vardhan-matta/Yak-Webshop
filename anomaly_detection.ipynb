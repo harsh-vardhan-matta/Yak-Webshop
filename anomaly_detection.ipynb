{
 "cells": [
  {
   "cell_type": "code",
   "execution_count": 88,
   "metadata": {},
   "outputs": [
    {
     "data": {
      "text/html": [
       "<div>\n",
       "<style scoped>\n",
       "    .dataframe tbody tr th:only-of-type {\n",
       "        vertical-align: middle;\n",
       "    }\n",
       "\n",
       "    .dataframe tbody tr th {\n",
       "        vertical-align: top;\n",
       "    }\n",
       "\n",
       "    .dataframe thead th {\n",
       "        text-align: right;\n",
       "    }\n",
       "</style>\n",
       "<table border=\"1\" class=\"dataframe\">\n",
       "  <thead>\n",
       "    <tr style=\"text-align: right;\">\n",
       "      <th></th>\n",
       "      <th>name</th>\n",
       "      <th>age</th>\n",
       "      <th>health</th>\n",
       "      <th>behavior</th>\n",
       "    </tr>\n",
       "  </thead>\n",
       "  <tbody>\n",
       "    <tr>\n",
       "      <th>0</th>\n",
       "      <td>Betty-1</td>\n",
       "      <td>100.0</td>\n",
       "      <td>special_health</td>\n",
       "      <td>special_behavior</td>\n",
       "    </tr>\n",
       "    <tr>\n",
       "      <th>1</th>\n",
       "      <td>Betty-2</td>\n",
       "      <td>5.9</td>\n",
       "      <td>excellent</td>\n",
       "      <td>positive</td>\n",
       "    </tr>\n",
       "    <tr>\n",
       "      <th>2</th>\n",
       "      <td>Betty-3</td>\n",
       "      <td>18.2</td>\n",
       "      <td>fair</td>\n",
       "      <td>stubborn</td>\n",
       "    </tr>\n",
       "    <tr>\n",
       "      <th>3</th>\n",
       "      <td>Betty-4</td>\n",
       "      <td>23.3</td>\n",
       "      <td>fair</td>\n",
       "      <td>stubborn</td>\n",
       "    </tr>\n",
       "    <tr>\n",
       "      <th>4</th>\n",
       "      <td>Betty-5</td>\n",
       "      <td>26.8</td>\n",
       "      <td>poor</td>\n",
       "      <td>negative</td>\n",
       "    </tr>\n",
       "    <tr>\n",
       "      <th>5</th>\n",
       "      <td>Betty-6</td>\n",
       "      <td>22.7</td>\n",
       "      <td>fair</td>\n",
       "      <td>stubborn</td>\n",
       "    </tr>\n",
       "  </tbody>\n",
       "</table>\n",
       "</div>"
      ],
      "text/plain": [
       "      name    age          health          behavior\n",
       "0  Betty-1  100.0  special_health  special_behavior\n",
       "1  Betty-2    5.9       excellent          positive\n",
       "2  Betty-3   18.2            fair          stubborn\n",
       "3  Betty-4   23.3            fair          stubborn\n",
       "4  Betty-5   26.8            poor          negative\n",
       "5  Betty-6   22.7            fair          stubborn"
      ]
     },
     "execution_count": 88,
     "metadata": {},
     "output_type": "execute_result"
    }
   ],
   "source": [
    "import json\n",
    "import os\n",
    "import pandas as pd\n",
    "from sklearn.ensemble import IsolationForest\n",
    "from sklearn.metrics import classification_report\n",
    "\n",
    "# Load the JSON dataset\n",
    "path = \"D:\\Datasets\\Yak_Webshop_1\\json_files\"\n",
    "file_path = os.path.join(path, 'sample_diverse_dataset.json')\n",
    "\n",
    "with open(file_path, 'r') as file:\n",
    "    data = json.load(file)\n",
    "\n",
    "# Convert JSON to DataFrame\n",
    "df = pd.DataFrame(data['herd'])\n",
    "df.head(6)"
   ]
  },
  {
   "cell_type": "markdown",
   "metadata": {},
   "source": [
    "Data Preprocessing - Drop unwanted featrure"
   ]
  },
  {
   "cell_type": "code",
   "execution_count": 89,
   "metadata": {},
   "outputs": [
    {
     "data": {
      "text/html": [
       "<div>\n",
       "<style scoped>\n",
       "    .dataframe tbody tr th:only-of-type {\n",
       "        vertical-align: middle;\n",
       "    }\n",
       "\n",
       "    .dataframe tbody tr th {\n",
       "        vertical-align: top;\n",
       "    }\n",
       "\n",
       "    .dataframe thead th {\n",
       "        text-align: right;\n",
       "    }\n",
       "</style>\n",
       "<table border=\"1\" class=\"dataframe\">\n",
       "  <thead>\n",
       "    <tr style=\"text-align: right;\">\n",
       "      <th></th>\n",
       "      <th>age</th>\n",
       "      <th>health</th>\n",
       "      <th>behavior</th>\n",
       "    </tr>\n",
       "  </thead>\n",
       "  <tbody>\n",
       "    <tr>\n",
       "      <th>0</th>\n",
       "      <td>100.0</td>\n",
       "      <td>special_health</td>\n",
       "      <td>special_behavior</td>\n",
       "    </tr>\n",
       "    <tr>\n",
       "      <th>1</th>\n",
       "      <td>5.9</td>\n",
       "      <td>excellent</td>\n",
       "      <td>positive</td>\n",
       "    </tr>\n",
       "    <tr>\n",
       "      <th>2</th>\n",
       "      <td>18.2</td>\n",
       "      <td>fair</td>\n",
       "      <td>stubborn</td>\n",
       "    </tr>\n",
       "    <tr>\n",
       "      <th>3</th>\n",
       "      <td>23.3</td>\n",
       "      <td>fair</td>\n",
       "      <td>stubborn</td>\n",
       "    </tr>\n",
       "    <tr>\n",
       "      <th>4</th>\n",
       "      <td>26.8</td>\n",
       "      <td>poor</td>\n",
       "      <td>negative</td>\n",
       "    </tr>\n",
       "  </tbody>\n",
       "</table>\n",
       "</div>"
      ],
      "text/plain": [
       "     age          health          behavior\n",
       "0  100.0  special_health  special_behavior\n",
       "1    5.9       excellent          positive\n",
       "2   18.2            fair          stubborn\n",
       "3   23.3            fair          stubborn\n",
       "4   26.8            poor          negative"
      ]
     },
     "execution_count": 89,
     "metadata": {},
     "output_type": "execute_result"
    }
   ],
   "source": [
    "df.drop('name', axis=1, inplace=True)\n",
    "df.head(5)"
   ]
  },
  {
   "cell_type": "markdown",
   "metadata": {},
   "source": [
    "Data Preprocessing - Cheking unique categories of data columns "
   ]
  },
  {
   "cell_type": "code",
   "execution_count": 90,
   "metadata": {},
   "outputs": [
    {
     "name": "stdout",
     "output_type": "stream",
     "text": [
      "Different health categories in Data:  ['special_health' 'excellent' 'fair' 'poor' 'good']\n",
      "\n",
      "Different Behaviour patterns in Data:  ['special_behavior' 'positive' 'stubborn' 'negative' 'playful' 'calm']\n"
     ]
    }
   ],
   "source": [
    "print(\"Different health categories in Data: \", df['health'].unique())\n",
    "print(\"\\nDifferent Behaviour patterns in Data: \",df['behavior'].unique())"
   ]
  },
  {
   "cell_type": "markdown",
   "metadata": {},
   "source": [
    "Data Preprocessing - Checking missing values"
   ]
  },
  {
   "cell_type": "code",
   "execution_count": 91,
   "metadata": {},
   "outputs": [
    {
     "name": "stdout",
     "output_type": "stream",
     "text": [
      "<class 'pandas.core.frame.DataFrame'>\n",
      "RangeIndex: 100 entries, 0 to 99\n",
      "Data columns (total 3 columns):\n",
      " #   Column    Non-Null Count  Dtype  \n",
      "---  ------    --------------  -----  \n",
      " 0   age       100 non-null    float64\n",
      " 1   health    100 non-null    object \n",
      " 2   behavior  100 non-null    object \n",
      "dtypes: float64(1), object(2)\n",
      "memory usage: 2.5+ KB\n"
     ]
    }
   ],
   "source": [
    "df.info()"
   ]
  },
  {
   "cell_type": "markdown",
   "metadata": {},
   "source": [
    "Data Preprocessing - Raw Check for Actual_Anomalies"
   ]
  },
  {
   "cell_type": "code",
   "execution_count": 92,
   "metadata": {},
   "outputs": [
    {
     "name": "stdout",
     "output_type": "stream",
     "text": [
      "Total number of anomalies present:  10\n"
     ]
    },
    {
     "data": {
      "text/html": [
       "<div>\n",
       "<style scoped>\n",
       "    .dataframe tbody tr th:only-of-type {\n",
       "        vertical-align: middle;\n",
       "    }\n",
       "\n",
       "    .dataframe tbody tr th {\n",
       "        vertical-align: top;\n",
       "    }\n",
       "\n",
       "    .dataframe thead th {\n",
       "        text-align: right;\n",
       "    }\n",
       "</style>\n",
       "<table border=\"1\" class=\"dataframe\">\n",
       "  <thead>\n",
       "    <tr style=\"text-align: right;\">\n",
       "      <th></th>\n",
       "      <th>age</th>\n",
       "      <th>health</th>\n",
       "      <th>behavior</th>\n",
       "    </tr>\n",
       "  </thead>\n",
       "  <tbody>\n",
       "    <tr>\n",
       "      <th>0</th>\n",
       "      <td>100.0</td>\n",
       "      <td>special_health</td>\n",
       "      <td>special_behavior</td>\n",
       "    </tr>\n",
       "    <tr>\n",
       "      <th>10</th>\n",
       "      <td>100.0</td>\n",
       "      <td>special_health</td>\n",
       "      <td>special_behavior</td>\n",
       "    </tr>\n",
       "    <tr>\n",
       "      <th>20</th>\n",
       "      <td>100.0</td>\n",
       "      <td>special_health</td>\n",
       "      <td>special_behavior</td>\n",
       "    </tr>\n",
       "    <tr>\n",
       "      <th>30</th>\n",
       "      <td>100.0</td>\n",
       "      <td>special_health</td>\n",
       "      <td>special_behavior</td>\n",
       "    </tr>\n",
       "    <tr>\n",
       "      <th>40</th>\n",
       "      <td>100.0</td>\n",
       "      <td>special_health</td>\n",
       "      <td>special_behavior</td>\n",
       "    </tr>\n",
       "    <tr>\n",
       "      <th>50</th>\n",
       "      <td>100.0</td>\n",
       "      <td>special_health</td>\n",
       "      <td>special_behavior</td>\n",
       "    </tr>\n",
       "    <tr>\n",
       "      <th>60</th>\n",
       "      <td>100.0</td>\n",
       "      <td>special_health</td>\n",
       "      <td>special_behavior</td>\n",
       "    </tr>\n",
       "    <tr>\n",
       "      <th>70</th>\n",
       "      <td>100.0</td>\n",
       "      <td>special_health</td>\n",
       "      <td>special_behavior</td>\n",
       "    </tr>\n",
       "    <tr>\n",
       "      <th>80</th>\n",
       "      <td>100.0</td>\n",
       "      <td>special_health</td>\n",
       "      <td>special_behavior</td>\n",
       "    </tr>\n",
       "    <tr>\n",
       "      <th>90</th>\n",
       "      <td>100.0</td>\n",
       "      <td>special_health</td>\n",
       "      <td>special_behavior</td>\n",
       "    </tr>\n",
       "  </tbody>\n",
       "</table>\n",
       "</div>"
      ],
      "text/plain": [
       "      age          health          behavior\n",
       "0   100.0  special_health  special_behavior\n",
       "10  100.0  special_health  special_behavior\n",
       "20  100.0  special_health  special_behavior\n",
       "30  100.0  special_health  special_behavior\n",
       "40  100.0  special_health  special_behavior\n",
       "50  100.0  special_health  special_behavior\n",
       "60  100.0  special_health  special_behavior\n",
       "70  100.0  special_health  special_behavior\n",
       "80  100.0  special_health  special_behavior\n",
       "90  100.0  special_health  special_behavior"
      ]
     },
     "execution_count": 92,
     "metadata": {},
     "output_type": "execute_result"
    }
   ],
   "source": [
    "actual_anomalies = df[df['age'] == 100]\n",
    "print(\"Total number of anomalies present: \", len(actual_anomalies))\n",
    "actual_anomalies"
   ]
  },
  {
   "cell_type": "markdown",
   "metadata": {},
   "source": [
    "Feature Engineering  - ['health', 'behavior'] are converted into numerical representation"
   ]
  },
  {
   "cell_type": "code",
   "execution_count": 93,
   "metadata": {},
   "outputs": [
    {
     "data": {
      "text/plain": [
       "Index(['age', 'health_excellent', 'health_fair', 'health_good', 'health_poor',\n",
       "       'health_special_health', 'behavior_calm', 'behavior_negative',\n",
       "       'behavior_playful', 'behavior_positive', 'behavior_special_behavior',\n",
       "       'behavior_stubborn'],\n",
       "      dtype='object')"
      ]
     },
     "execution_count": 93,
     "metadata": {},
     "output_type": "execute_result"
    }
   ],
   "source": [
    "df = pd.get_dummies(df, columns=['health', 'behavior'])\n",
    "df.columns"
   ]
  },
  {
   "cell_type": "code",
   "execution_count": 94,
   "metadata": {},
   "outputs": [],
   "source": [
    "df['age'] = df['age'].astype(float)"
   ]
  },
  {
   "cell_type": "markdown",
   "metadata": {},
   "source": [
    "Model Training and HyperParameter Tuning"
   ]
  },
  {
   "cell_type": "code",
   "execution_count": 95,
   "metadata": {},
   "outputs": [
    {
     "name": "stdout",
     "output_type": "stream",
     "text": [
      "Contamination Value: 0.01, Error Rate: 0.00% (Error rate became 0, as coming negative)\n",
      "Contamination Value: 0.09, Error Rate: 0.00% (Error rate became 0, as coming negative)\n",
      "Contamination Value: 0.11, Error Rate: 0.00% (Error rate became 0, as coming negative)\n",
      "Contamination Value: 0.13, Error Rate: 3.00%\n",
      "Contamination Value: 0.15, Error Rate: 5.00%\n",
      "Contamination Value: 0.18, Error Rate: 7.00%\n",
      "Contamination Value: 0.2, Error Rate: 10.00%\n",
      "Contamination Value: 0.25, Error Rate: 15.00%\n",
      "Contamination Value: 0.3, Error Rate: 20.00%\n",
      "Contamination Value: 0.35, Error Rate: 25.00%\n",
      "Contamination Value: 0.4, Error Rate: 30.00%\n",
      "Contamination Value: 0.45, Error Rate: 35.00%\n",
      "Contamination Value: 0.5, Error Rate: 39.00%\n",
      "\n",
      "Best Contamination Value(s) with Minimum Error Rate (> 0.00%): [0.13]\n",
      "Minimum Error Rate (> 0.00%): 3.00%\n"
     ]
    }
   ],
   "source": [
    "contamination_values = [0.01, 0.09, 0.11, 0.13, 0.15, 0.18, 0.2, 0.25, 0.3, 0.35, 0.4, 0.45, 0.5]\n",
    "\n",
    "error_rates = {}  # Dictionary to store error rates for different contamination values\n",
    "zero_error_rates = []  # List to store contamination values with 0 error rate\n",
    "for contamination_value in contamination_values:\n",
    "    model = IsolationForest(n_estimators=100, contamination=contamination_value, random_state=42)\n",
    "    predictions = model.fit_predict(df.drop(columns=['model_prediction'], errors='ignore'))\n",
    "\n",
    "    df['model_prediction'] = predictions\n",
    "    df_anomalies = df[df['model_prediction'] == -1]\n",
    "    df_inliers = df[df['model_prediction'] == 1]\n",
    "\n",
    "    incorrect_predictions = max(len(df_anomalies) - len(actual_anomalies), 0)\n",
    "    error_rate = incorrect_predictions / len(df)\n",
    "\n",
    "    if error_rate > 0.00:  # Selecting error rates greater than 0.00%\n",
    "        error_rates[contamination_value] = error_rate\n",
    "        print(f\"Contamination Value: {contamination_value}, Error Rate: {error_rate * 100:.2f}%\")\n",
    "    else:\n",
    "        zero_error_rates.append(contamination_value)\n",
    "        print(f\"Contamination Value: {contamination_value}, Error Rate: {error_rate * 100:.2f}% (Error rate became 0, as coming negative)\")\n",
    "\n",
    "# Find the minimum error rate greater than 0.00% and its corresponding contamination value\n",
    "if error_rates:\n",
    "    min_error_rate = min(error_rates.values())\n",
    "    best_contamination = [contamination for contamination, rate in error_rates.items() if rate == min_error_rate]\n",
    "    print(f\"\\nBest Contamination Value(s) with Minimum Error Rate (> 0.00%): {best_contamination}\")\n",
    "    print(f\"Minimum Error Rate (> 0.00%): {min_error_rate * 100:.2f}%\")\n",
    "else:\n",
    "    print(\"No contamination value found with error rate greater than 0.00%.\")\n"
   ]
  },
  {
   "cell_type": "code",
   "execution_count": null,
   "metadata": {},
   "outputs": [],
   "source": [
    "'''\n",
    "What is Isolation Forest: \n",
    "Assume - you are in forest having where every looks same except for the standalone  (odd ones) trees - anomalies\n",
    "\n",
    "- Random Partitioning: It randomly selects features and values to separate data points into smaller groups\n",
    "\n",
    "- Isolating Anomalies: Anomalies, being different from the majority, \n",
    "                       are easier to isolate and need fewer partitions to separate them from normal data\n",
    "\n",
    "Depth as Anomaly Indicator: The algorithm identifies anomalies based on the fewer partitions (depth)\n",
    "needed to isolate them, considering anomalies as points that stand out from the norm.\n",
    "'''"
   ]
  }
 ],
 "metadata": {
  "kernelspec": {
   "display_name": "yak_env",
   "language": "python",
   "name": "python3"
  },
  "language_info": {
   "codemirror_mode": {
    "name": "ipython",
    "version": 3
   },
   "file_extension": ".py",
   "mimetype": "text/x-python",
   "name": "python",
   "nbconvert_exporter": "python",
   "pygments_lexer": "ipython3",
   "version": "3.11.6"
  }
 },
 "nbformat": 4,
 "nbformat_minor": 2
}
