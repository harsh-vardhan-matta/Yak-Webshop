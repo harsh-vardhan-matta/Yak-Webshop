{
 "cells": [
  {
   "cell_type": "code",
   "execution_count": 55,
   "metadata": {},
   "outputs": [],
   "source": [
    "import json\n",
    "import pandas as pd\n",
    "from sklearn.tree import DecisionTreeClassifier\n",
    "from datetime import datetime\n",
    "from sklearn.model_selection import train_test_split\n",
    "from sklearn.metrics import accuracy_score, classification_report"
   ]
  },
  {
   "cell_type": "code",
   "execution_count": 56,
   "metadata": {},
   "outputs": [
    {
     "name": "stdout",
     "output_type": "stream",
     "text": [
      "File uploaded successfully\n"
     ]
    }
   ],
   "source": [
    "# Load yak data from the JSON file\n",
    "file_path = \"D:\\Datasets\\Yak_Webshop_1\\json_files\\sample_diverse_data_recommendation.json\"\n",
    "with open(file_path, \"r\") as json_file:\n",
    "    yak_data = json.load(json_file)\n",
    "print(\"File uploaded successfully\")\n",
    "df = pd.DataFrame(yak_data)"
   ]
  },
  {
   "cell_type": "code",
   "execution_count": 57,
   "metadata": {},
   "outputs": [
    {
     "data": {
      "text/html": [
       "<div>\n",
       "<style scoped>\n",
       "    .dataframe tbody tr th:only-of-type {\n",
       "        vertical-align: middle;\n",
       "    }\n",
       "\n",
       "    .dataframe tbody tr th {\n",
       "        vertical-align: top;\n",
       "    }\n",
       "\n",
       "    .dataframe thead th {\n",
       "        text-align: right;\n",
       "    }\n",
       "</style>\n",
       "<table border=\"1\" class=\"dataframe\">\n",
       "  <thead>\n",
       "    <tr style=\"text-align: right;\">\n",
       "      <th></th>\n",
       "      <th>name</th>\n",
       "      <th>age</th>\n",
       "      <th>health</th>\n",
       "      <th>behavior</th>\n",
       "      <th>weight_kg</th>\n",
       "      <th>last_checkup_date</th>\n",
       "      <th>days_since_checkup</th>\n",
       "    </tr>\n",
       "  </thead>\n",
       "  <tbody>\n",
       "    <tr>\n",
       "      <th>0</th>\n",
       "      <td>Betty-1</td>\n",
       "      <td>100.0</td>\n",
       "      <td>special_health</td>\n",
       "      <td>special_behavior</td>\n",
       "      <td>96.19</td>\n",
       "      <td>2023-10-19</td>\n",
       "      <td>37</td>\n",
       "    </tr>\n",
       "    <tr>\n",
       "      <th>1</th>\n",
       "      <td>Betty-2</td>\n",
       "      <td>5.9</td>\n",
       "      <td>excellent</td>\n",
       "      <td>positive</td>\n",
       "      <td>156.81</td>\n",
       "      <td>2023-10-25</td>\n",
       "      <td>31</td>\n",
       "    </tr>\n",
       "    <tr>\n",
       "      <th>2</th>\n",
       "      <td>Betty-3</td>\n",
       "      <td>18.2</td>\n",
       "      <td>fair</td>\n",
       "      <td>stubborn</td>\n",
       "      <td>53.22</td>\n",
       "      <td>2023-06-16</td>\n",
       "      <td>162</td>\n",
       "    </tr>\n",
       "    <tr>\n",
       "      <th>3</th>\n",
       "      <td>Betty-4</td>\n",
       "      <td>23.3</td>\n",
       "      <td>fair</td>\n",
       "      <td>stubborn</td>\n",
       "      <td>109.01</td>\n",
       "      <td>2023-06-15</td>\n",
       "      <td>163</td>\n",
       "    </tr>\n",
       "    <tr>\n",
       "      <th>4</th>\n",
       "      <td>Betty-5</td>\n",
       "      <td>26.8</td>\n",
       "      <td>poor</td>\n",
       "      <td>negative</td>\n",
       "      <td>61.67</td>\n",
       "      <td>2023-10-01</td>\n",
       "      <td>55</td>\n",
       "    </tr>\n",
       "  </tbody>\n",
       "</table>\n",
       "</div>"
      ],
      "text/plain": [
       "      name    age          health          behavior  weight_kg  \\\n",
       "0  Betty-1  100.0  special_health  special_behavior      96.19   \n",
       "1  Betty-2    5.9       excellent          positive     156.81   \n",
       "2  Betty-3   18.2            fair          stubborn      53.22   \n",
       "3  Betty-4   23.3            fair          stubborn     109.01   \n",
       "4  Betty-5   26.8            poor          negative      61.67   \n",
       "\n",
       "  last_checkup_date  days_since_checkup  \n",
       "0        2023-10-19                  37  \n",
       "1        2023-10-25                  31  \n",
       "2        2023-06-16                 162  \n",
       "3        2023-06-15                 163  \n",
       "4        2023-10-01                  55  "
      ]
     },
     "execution_count": 57,
     "metadata": {},
     "output_type": "execute_result"
    }
   ],
   "source": [
    "# Convert 'last_checkup_date' to datetime and calculate days since last checkup\n",
    "current_date = datetime.strptime(\"2023-11-25\", \"%Y-%m-%d\")  # Assuming current date for reference\n",
    "df['last_checkup_date'] = pd.to_datetime(df['last_checkup_date'])\n",
    "df['days_since_checkup'] = (current_date - df['last_checkup_date']).dt.days\n",
    "\n",
    "df.head(5)"
   ]
  },
  {
   "cell_type": "code",
   "execution_count": 58,
   "metadata": {},
   "outputs": [],
   "source": [
    "# Convert 'behavior' column into one-hot encoded columns\n",
    "df = pd.get_dummies(df, columns=['behavior'], prefix='behavior')"
   ]
  },
  {
   "cell_type": "code",
   "execution_count": 59,
   "metadata": {},
   "outputs": [
    {
     "data": {
      "text/html": [
       "<div>\n",
       "<style scoped>\n",
       "    .dataframe tbody tr th:only-of-type {\n",
       "        vertical-align: middle;\n",
       "    }\n",
       "\n",
       "    .dataframe tbody tr th {\n",
       "        vertical-align: top;\n",
       "    }\n",
       "\n",
       "    .dataframe thead th {\n",
       "        text-align: right;\n",
       "    }\n",
       "</style>\n",
       "<table border=\"1\" class=\"dataframe\">\n",
       "  <thead>\n",
       "    <tr style=\"text-align: right;\">\n",
       "      <th></th>\n",
       "      <th>name</th>\n",
       "      <th>age</th>\n",
       "      <th>health</th>\n",
       "      <th>weight_kg</th>\n",
       "      <th>last_checkup_date</th>\n",
       "      <th>days_since_checkup</th>\n",
       "      <th>behavior_calm</th>\n",
       "      <th>behavior_negative</th>\n",
       "      <th>behavior_playful</th>\n",
       "      <th>behavior_positive</th>\n",
       "      <th>behavior_special_behavior</th>\n",
       "      <th>behavior_stubborn</th>\n",
       "    </tr>\n",
       "  </thead>\n",
       "  <tbody>\n",
       "    <tr>\n",
       "      <th>0</th>\n",
       "      <td>Betty-1</td>\n",
       "      <td>100.0</td>\n",
       "      <td>special_health</td>\n",
       "      <td>96.19</td>\n",
       "      <td>2023-10-19</td>\n",
       "      <td>37</td>\n",
       "      <td>False</td>\n",
       "      <td>False</td>\n",
       "      <td>False</td>\n",
       "      <td>False</td>\n",
       "      <td>True</td>\n",
       "      <td>False</td>\n",
       "    </tr>\n",
       "    <tr>\n",
       "      <th>1</th>\n",
       "      <td>Betty-2</td>\n",
       "      <td>5.9</td>\n",
       "      <td>excellent</td>\n",
       "      <td>156.81</td>\n",
       "      <td>2023-10-25</td>\n",
       "      <td>31</td>\n",
       "      <td>False</td>\n",
       "      <td>False</td>\n",
       "      <td>False</td>\n",
       "      <td>True</td>\n",
       "      <td>False</td>\n",
       "      <td>False</td>\n",
       "    </tr>\n",
       "    <tr>\n",
       "      <th>2</th>\n",
       "      <td>Betty-3</td>\n",
       "      <td>18.2</td>\n",
       "      <td>fair</td>\n",
       "      <td>53.22</td>\n",
       "      <td>2023-06-16</td>\n",
       "      <td>162</td>\n",
       "      <td>False</td>\n",
       "      <td>False</td>\n",
       "      <td>False</td>\n",
       "      <td>False</td>\n",
       "      <td>False</td>\n",
       "      <td>True</td>\n",
       "    </tr>\n",
       "  </tbody>\n",
       "</table>\n",
       "</div>"
      ],
      "text/plain": [
       "      name    age          health  weight_kg last_checkup_date  \\\n",
       "0  Betty-1  100.0  special_health      96.19        2023-10-19   \n",
       "1  Betty-2    5.9       excellent     156.81        2023-10-25   \n",
       "2  Betty-3   18.2            fair      53.22        2023-06-16   \n",
       "\n",
       "   days_since_checkup  behavior_calm  behavior_negative  behavior_playful  \\\n",
       "0                  37          False              False             False   \n",
       "1                  31          False              False             False   \n",
       "2                 162          False              False             False   \n",
       "\n",
       "   behavior_positive  behavior_special_behavior  behavior_stubborn  \n",
       "0              False                       True              False  \n",
       "1               True                      False              False  \n",
       "2              False                      False               True  "
      ]
     },
     "execution_count": 59,
     "metadata": {},
     "output_type": "execute_result"
    }
   ],
   "source": [
    "df.head(3)"
   ]
  },
  {
   "cell_type": "code",
   "execution_count": 60,
   "metadata": {},
   "outputs": [
    {
     "data": {
      "text/plain": [
       "Index(['name', 'age', 'health', 'weight_kg', 'last_checkup_date',\n",
       "       'days_since_checkup', 'behavior_calm', 'behavior_negative',\n",
       "       'behavior_playful', 'behavior_positive', 'behavior_special_behavior',\n",
       "       'behavior_stubborn'],\n",
       "      dtype='object')"
      ]
     },
     "execution_count": 60,
     "metadata": {},
     "output_type": "execute_result"
    }
   ],
   "source": [
    "df.columns"
   ]
  },
  {
   "cell_type": "code",
   "execution_count": 61,
   "metadata": {},
   "outputs": [],
   "source": [
    "# Select features and target variable\n",
    "X = df[['age',\n",
    "         'weight_kg', \n",
    "         'days_since_checkup', \n",
    "         'behavior_calm', \n",
    "         'behavior_playful', \n",
    "         'behavior_positive',\n",
    "         'behavior_negative', \n",
    "         'behavior_special_behavior', \n",
    "         'behavior_stubborn']]\n",
    "y = df['health']"
   ]
  },
  {
   "cell_type": "code",
   "execution_count": 62,
   "metadata": {},
   "outputs": [
    {
     "data": {
      "text/html": [
       "<style>#sk-container-id-2 {color: black;}#sk-container-id-2 pre{padding: 0;}#sk-container-id-2 div.sk-toggleable {background-color: white;}#sk-container-id-2 label.sk-toggleable__label {cursor: pointer;display: block;width: 100%;margin-bottom: 0;padding: 0.3em;box-sizing: border-box;text-align: center;}#sk-container-id-2 label.sk-toggleable__label-arrow:before {content: \"▸\";float: left;margin-right: 0.25em;color: #696969;}#sk-container-id-2 label.sk-toggleable__label-arrow:hover:before {color: black;}#sk-container-id-2 div.sk-estimator:hover label.sk-toggleable__label-arrow:before {color: black;}#sk-container-id-2 div.sk-toggleable__content {max-height: 0;max-width: 0;overflow: hidden;text-align: left;background-color: #f0f8ff;}#sk-container-id-2 div.sk-toggleable__content pre {margin: 0.2em;color: black;border-radius: 0.25em;background-color: #f0f8ff;}#sk-container-id-2 input.sk-toggleable__control:checked~div.sk-toggleable__content {max-height: 200px;max-width: 100%;overflow: auto;}#sk-container-id-2 input.sk-toggleable__control:checked~label.sk-toggleable__label-arrow:before {content: \"▾\";}#sk-container-id-2 div.sk-estimator input.sk-toggleable__control:checked~label.sk-toggleable__label {background-color: #d4ebff;}#sk-container-id-2 div.sk-label input.sk-toggleable__control:checked~label.sk-toggleable__label {background-color: #d4ebff;}#sk-container-id-2 input.sk-hidden--visually {border: 0;clip: rect(1px 1px 1px 1px);clip: rect(1px, 1px, 1px, 1px);height: 1px;margin: -1px;overflow: hidden;padding: 0;position: absolute;width: 1px;}#sk-container-id-2 div.sk-estimator {font-family: monospace;background-color: #f0f8ff;border: 1px dotted black;border-radius: 0.25em;box-sizing: border-box;margin-bottom: 0.5em;}#sk-container-id-2 div.sk-estimator:hover {background-color: #d4ebff;}#sk-container-id-2 div.sk-parallel-item::after {content: \"\";width: 100%;border-bottom: 1px solid gray;flex-grow: 1;}#sk-container-id-2 div.sk-label:hover label.sk-toggleable__label {background-color: #d4ebff;}#sk-container-id-2 div.sk-serial::before {content: \"\";position: absolute;border-left: 1px solid gray;box-sizing: border-box;top: 0;bottom: 0;left: 50%;z-index: 0;}#sk-container-id-2 div.sk-serial {display: flex;flex-direction: column;align-items: center;background-color: white;padding-right: 0.2em;padding-left: 0.2em;position: relative;}#sk-container-id-2 div.sk-item {position: relative;z-index: 1;}#sk-container-id-2 div.sk-parallel {display: flex;align-items: stretch;justify-content: center;background-color: white;position: relative;}#sk-container-id-2 div.sk-item::before, #sk-container-id-2 div.sk-parallel-item::before {content: \"\";position: absolute;border-left: 1px solid gray;box-sizing: border-box;top: 0;bottom: 0;left: 50%;z-index: -1;}#sk-container-id-2 div.sk-parallel-item {display: flex;flex-direction: column;z-index: 1;position: relative;background-color: white;}#sk-container-id-2 div.sk-parallel-item:first-child::after {align-self: flex-end;width: 50%;}#sk-container-id-2 div.sk-parallel-item:last-child::after {align-self: flex-start;width: 50%;}#sk-container-id-2 div.sk-parallel-item:only-child::after {width: 0;}#sk-container-id-2 div.sk-dashed-wrapped {border: 1px dashed gray;margin: 0 0.4em 0.5em 0.4em;box-sizing: border-box;padding-bottom: 0.4em;background-color: white;}#sk-container-id-2 div.sk-label label {font-family: monospace;font-weight: bold;display: inline-block;line-height: 1.2em;}#sk-container-id-2 div.sk-label-container {text-align: center;}#sk-container-id-2 div.sk-container {/* jupyter's `normalize.less` sets `[hidden] { display: none; }` but bootstrap.min.css set `[hidden] { display: none !important; }` so we also need the `!important` here to be able to override the default hidden behavior on the sphinx rendered scikit-learn.org. See: https://github.com/scikit-learn/scikit-learn/issues/21755 */display: inline-block !important;position: relative;}#sk-container-id-2 div.sk-text-repr-fallback {display: none;}</style><div id=\"sk-container-id-2\" class=\"sk-top-container\"><div class=\"sk-text-repr-fallback\"><pre>DecisionTreeClassifier()</pre><b>In a Jupyter environment, please rerun this cell to show the HTML representation or trust the notebook. <br />On GitHub, the HTML representation is unable to render, please try loading this page with nbviewer.org.</b></div><div class=\"sk-container\" hidden><div class=\"sk-item\"><div class=\"sk-estimator sk-toggleable\"><input class=\"sk-toggleable__control sk-hidden--visually\" id=\"sk-estimator-id-2\" type=\"checkbox\" checked><label for=\"sk-estimator-id-2\" class=\"sk-toggleable__label sk-toggleable__label-arrow\">DecisionTreeClassifier</label><div class=\"sk-toggleable__content\"><pre>DecisionTreeClassifier()</pre></div></div></div></div></div>"
      ],
      "text/plain": [
       "DecisionTreeClassifier()"
      ]
     },
     "execution_count": 62,
     "metadata": {},
     "output_type": "execute_result"
    }
   ],
   "source": [
    "# Split data into train and test sets\n",
    "X_train, X_test, y_train, y_test = train_test_split(X, y, test_size=0.2, random_state=42)\n",
    "\n",
    "# Initialize and train a Decision Tree Classifier\n",
    "model = DecisionTreeClassifier()\n",
    "model.fit(X_train, y_train)"
   ]
  },
  {
   "cell_type": "code",
   "execution_count": 63,
   "metadata": {},
   "outputs": [
    {
     "name": "stdout",
     "output_type": "stream",
     "text": [
      "Model Accuracy: 1.00\n",
      "\n",
      "Classification Report:\n",
      "                precision    recall  f1-score   support\n",
      "\n",
      "     excellent       1.00      1.00      1.00         3\n",
      "          fair       1.00      1.00      1.00         7\n",
      "          good       1.00      1.00      1.00         1\n",
      "          poor       1.00      1.00      1.00         3\n",
      "special_health       1.00      1.00      1.00         6\n",
      "\n",
      "      accuracy                           1.00        20\n",
      "     macro avg       1.00      1.00      1.00        20\n",
      "  weighted avg       1.00      1.00      1.00        20\n",
      "\n"
     ]
    }
   ],
   "source": [
    "# Make predictions on the test set\n",
    "y_pred = model.predict(X_test)\n",
    "\n",
    "# Calculate accuracy and other evaluation metrics\n",
    "accuracy = accuracy_score(y_test, y_pred)\n",
    "classification_rep = classification_report(y_test, y_pred)\n",
    "\n",
    "print(f\"Model Accuracy: {accuracy:.2f}\")\n",
    "print(\"\\nClassification Report:\")\n",
    "print(classification_rep)"
   ]
  },
  {
   "cell_type": "markdown",
   "metadata": {},
   "source": [
    "Making predictions"
   ]
  },
  {
   "cell_type": "code",
   "execution_count": 68,
   "metadata": {},
   "outputs": [
    {
     "data": {
      "text/html": [
       "<div>\n",
       "<style scoped>\n",
       "    .dataframe tbody tr th:only-of-type {\n",
       "        vertical-align: middle;\n",
       "    }\n",
       "\n",
       "    .dataframe tbody tr th {\n",
       "        vertical-align: top;\n",
       "    }\n",
       "\n",
       "    .dataframe thead th {\n",
       "        text-align: right;\n",
       "    }\n",
       "</style>\n",
       "<table border=\"1\" class=\"dataframe\">\n",
       "  <thead>\n",
       "    <tr style=\"text-align: right;\">\n",
       "      <th></th>\n",
       "      <th>age</th>\n",
       "      <th>weight_kg</th>\n",
       "      <th>last_checkup_date</th>\n",
       "      <th>behavior</th>\n",
       "    </tr>\n",
       "  </thead>\n",
       "  <tbody>\n",
       "    <tr>\n",
       "      <th>0</th>\n",
       "      <td>27</td>\n",
       "      <td>76.26</td>\n",
       "      <td>2023-01-24</td>\n",
       "      <td>negative</td>\n",
       "    </tr>\n",
       "    <tr>\n",
       "      <th>1</th>\n",
       "      <td>6</td>\n",
       "      <td>169.93</td>\n",
       "      <td>2023-03-28</td>\n",
       "      <td>calm</td>\n",
       "    </tr>\n",
       "    <tr>\n",
       "      <th>2</th>\n",
       "      <td>30</td>\n",
       "      <td>105.51</td>\n",
       "      <td>2023-02-19</td>\n",
       "      <td>playful</td>\n",
       "    </tr>\n",
       "    <tr>\n",
       "      <th>3</th>\n",
       "      <td>28</td>\n",
       "      <td>173.86</td>\n",
       "      <td>2023-02-18</td>\n",
       "      <td>positive</td>\n",
       "    </tr>\n",
       "    <tr>\n",
       "      <th>4</th>\n",
       "      <td>12</td>\n",
       "      <td>145.13</td>\n",
       "      <td>2023-12-26</td>\n",
       "      <td>special_behavior</td>\n",
       "    </tr>\n",
       "    <tr>\n",
       "      <th>5</th>\n",
       "      <td>25</td>\n",
       "      <td>150.15</td>\n",
       "      <td>2023-09-23</td>\n",
       "      <td>stubborn</td>\n",
       "    </tr>\n",
       "  </tbody>\n",
       "</table>\n",
       "</div>"
      ],
      "text/plain": [
       "   age  weight_kg last_checkup_date          behavior\n",
       "0   27      76.26        2023-01-24          negative\n",
       "1    6     169.93        2023-03-28              calm\n",
       "2   30     105.51        2023-02-19           playful\n",
       "3   28     173.86        2023-02-18          positive\n",
       "4   12     145.13        2023-12-26  special_behavior\n",
       "5   25     150.15        2023-09-23          stubborn"
      ]
     },
     "execution_count": 68,
     "metadata": {},
     "output_type": "execute_result"
    }
   ],
   "source": [
    "import pandas as pd\n",
    "import random\n",
    "from datetime import datetime\n",
    "\n",
    "# List of possible behavior values\n",
    "behaviors = ['negative', 'calm', 'playful', 'positive', 'special_behavior', 'stubborn']\n",
    "\n",
    "# Create a DataFrame with rows for each behavior\n",
    "test_data = []\n",
    "for behavior in behaviors:\n",
    "    new_yak = {\n",
    "        'age': random.randint(1, 30),\n",
    "        'weight_kg': round(random.uniform(50, 200), 2),\n",
    "        'last_checkup_date': datetime.strptime(f\"2023-{random.randint(1, 12)}-{random.randint(1, 28)}\", \"%Y-%m-%d\"),\n",
    "        'behavior': behavior\n",
    "    }\n",
    "    test_data.append(new_yak)\n",
    "\n",
    "# Create DataFrame for test data\n",
    "test_df = pd.DataFrame(test_data)\n",
    "test_df\n"
   ]
  },
  {
   "cell_type": "code",
   "execution_count": 69,
   "metadata": {},
   "outputs": [
    {
     "ename": "ValueError",
     "evalue": "The feature names should match those that were passed during fit.\nFeature names seen at fit time, yet now missing:\n- behavior_calm\n- behavior_negative\n- behavior_playful\n- behavior_positive\n- behavior_special_behavior\n- ...\n",
     "output_type": "error",
     "traceback": [
      "\u001b[1;31m---------------------------------------------------------------------------\u001b[0m",
      "\u001b[1;31mValueError\u001b[0m                                Traceback (most recent call last)",
      "\u001b[1;32md:\\Datasets\\Yak_Webshop_1\\recommendation_analysis.ipynb Cell 12\u001b[0m line \u001b[0;36m9\n\u001b[0;32m      <a href='vscode-notebook-cell:/d%3A/Datasets/Yak_Webshop_1/recommendation_analysis.ipynb#X20sZmlsZQ%3D%3D?line=3'>4</a>\u001b[0m test_df[\u001b[39m'\u001b[39m\u001b[39mdays_since_checkup\u001b[39m\u001b[39m'\u001b[39m] \u001b[39m=\u001b[39m (current_date \u001b[39m-\u001b[39m test_df[\u001b[39m'\u001b[39m\u001b[39mlast_checkup_date\u001b[39m\u001b[39m'\u001b[39m])\u001b[39m.\u001b[39mdt\u001b[39m.\u001b[39mdays\n\u001b[0;32m      <a href='vscode-notebook-cell:/d%3A/Datasets/Yak_Webshop_1/recommendation_analysis.ipynb#X20sZmlsZQ%3D%3D?line=5'>6</a>\u001b[0m \u001b[39m# Make predictions for the test data\u001b[39;00m\n\u001b[0;32m      <a href='vscode-notebook-cell:/d%3A/Datasets/Yak_Webshop_1/recommendation_analysis.ipynb#X20sZmlsZQ%3D%3D?line=6'>7</a>\u001b[0m \u001b[39m# (Assuming 'model' has already been trained)\u001b[39;00m\n\u001b[0;32m      <a href='vscode-notebook-cell:/d%3A/Datasets/Yak_Webshop_1/recommendation_analysis.ipynb#X20sZmlsZQ%3D%3D?line=7'>8</a>\u001b[0m \u001b[39m# Use the model to predict and provide recommendations\u001b[39;00m\n\u001b[1;32m----> <a href='vscode-notebook-cell:/d%3A/Datasets/Yak_Webshop_1/recommendation_analysis.ipynb#X20sZmlsZQ%3D%3D?line=8'>9</a>\u001b[0m test_df[\u001b[39m'\u001b[39m\u001b[39mprediction\u001b[39m\u001b[39m'\u001b[39m] \u001b[39m=\u001b[39m model\u001b[39m.\u001b[39;49mpredict(test_df[[\u001b[39m'\u001b[39;49m\u001b[39mage\u001b[39;49m\u001b[39m'\u001b[39;49m, \u001b[39m'\u001b[39;49m\u001b[39mweight_kg\u001b[39;49m\u001b[39m'\u001b[39;49m, \u001b[39m'\u001b[39;49m\u001b[39mdays_since_checkup\u001b[39;49m\u001b[39m'\u001b[39;49m]])\n\u001b[0;32m     <a href='vscode-notebook-cell:/d%3A/Datasets/Yak_Webshop_1/recommendation_analysis.ipynb#X20sZmlsZQ%3D%3D?line=9'>10</a>\u001b[0m test_df[\u001b[39m'\u001b[39m\u001b[39mrecommendation\u001b[39m\u001b[39m'\u001b[39m] \u001b[39m=\u001b[39m \u001b[39m'\u001b[39m\u001b[39m'\u001b[39m\n\u001b[0;32m     <a href='vscode-notebook-cell:/d%3A/Datasets/Yak_Webshop_1/recommendation_analysis.ipynb#X20sZmlsZQ%3D%3D?line=11'>12</a>\u001b[0m \u001b[39mfor\u001b[39;00m behavior \u001b[39min\u001b[39;00m behaviors:\n",
      "File \u001b[1;32md:\\Datasets\\Yak_Webshop_1\\yak_env\\Lib\\site-packages\\sklearn\\tree\\_classes.py:500\u001b[0m, in \u001b[0;36mBaseDecisionTree.predict\u001b[1;34m(self, X, check_input)\u001b[0m\n\u001b[0;32m    477\u001b[0m \u001b[39m\u001b[39m\u001b[39m\"\"\"Predict class or regression value for X.\u001b[39;00m\n\u001b[0;32m    478\u001b[0m \n\u001b[0;32m    479\u001b[0m \u001b[39mFor a classification model, the predicted class for each sample in X is\u001b[39;00m\n\u001b[1;32m   (...)\u001b[0m\n\u001b[0;32m    497\u001b[0m \u001b[39m    The predicted classes, or the predict values.\u001b[39;00m\n\u001b[0;32m    498\u001b[0m \u001b[39m\"\"\"\u001b[39;00m\n\u001b[0;32m    499\u001b[0m check_is_fitted(\u001b[39mself\u001b[39m)\n\u001b[1;32m--> 500\u001b[0m X \u001b[39m=\u001b[39m \u001b[39mself\u001b[39;49m\u001b[39m.\u001b[39;49m_validate_X_predict(X, check_input)\n\u001b[0;32m    501\u001b[0m proba \u001b[39m=\u001b[39m \u001b[39mself\u001b[39m\u001b[39m.\u001b[39mtree_\u001b[39m.\u001b[39mpredict(X)\n\u001b[0;32m    502\u001b[0m n_samples \u001b[39m=\u001b[39m X\u001b[39m.\u001b[39mshape[\u001b[39m0\u001b[39m]\n",
      "File \u001b[1;32md:\\Datasets\\Yak_Webshop_1\\yak_env\\Lib\\site-packages\\sklearn\\tree\\_classes.py:460\u001b[0m, in \u001b[0;36mBaseDecisionTree._validate_X_predict\u001b[1;34m(self, X, check_input)\u001b[0m\n\u001b[0;32m    458\u001b[0m \u001b[39melse\u001b[39;00m:\n\u001b[0;32m    459\u001b[0m     force_all_finite \u001b[39m=\u001b[39m \u001b[39mTrue\u001b[39;00m\n\u001b[1;32m--> 460\u001b[0m X \u001b[39m=\u001b[39m \u001b[39mself\u001b[39;49m\u001b[39m.\u001b[39;49m_validate_data(\n\u001b[0;32m    461\u001b[0m     X,\n\u001b[0;32m    462\u001b[0m     dtype\u001b[39m=\u001b[39;49mDTYPE,\n\u001b[0;32m    463\u001b[0m     accept_sparse\u001b[39m=\u001b[39;49m\u001b[39m\"\u001b[39;49m\u001b[39mcsr\u001b[39;49m\u001b[39m\"\u001b[39;49m,\n\u001b[0;32m    464\u001b[0m     reset\u001b[39m=\u001b[39;49m\u001b[39mFalse\u001b[39;49;00m,\n\u001b[0;32m    465\u001b[0m     force_all_finite\u001b[39m=\u001b[39;49mforce_all_finite,\n\u001b[0;32m    466\u001b[0m )\n\u001b[0;32m    467\u001b[0m \u001b[39mif\u001b[39;00m issparse(X) \u001b[39mand\u001b[39;00m (\n\u001b[0;32m    468\u001b[0m     X\u001b[39m.\u001b[39mindices\u001b[39m.\u001b[39mdtype \u001b[39m!=\u001b[39m np\u001b[39m.\u001b[39mintc \u001b[39mor\u001b[39;00m X\u001b[39m.\u001b[39mindptr\u001b[39m.\u001b[39mdtype \u001b[39m!=\u001b[39m np\u001b[39m.\u001b[39mintc\n\u001b[0;32m    469\u001b[0m ):\n\u001b[0;32m    470\u001b[0m     \u001b[39mraise\u001b[39;00m \u001b[39mValueError\u001b[39;00m(\u001b[39m\"\u001b[39m\u001b[39mNo support for np.int64 index based sparse matrices\u001b[39m\u001b[39m\"\u001b[39m)\n",
      "File \u001b[1;32md:\\Datasets\\Yak_Webshop_1\\yak_env\\Lib\\site-packages\\sklearn\\base.py:580\u001b[0m, in \u001b[0;36mBaseEstimator._validate_data\u001b[1;34m(self, X, y, reset, validate_separately, cast_to_ndarray, **check_params)\u001b[0m\n\u001b[0;32m    509\u001b[0m \u001b[39mdef\u001b[39;00m \u001b[39m_validate_data\u001b[39m(\n\u001b[0;32m    510\u001b[0m     \u001b[39mself\u001b[39m,\n\u001b[0;32m    511\u001b[0m     X\u001b[39m=\u001b[39m\u001b[39m\"\u001b[39m\u001b[39mno_validation\u001b[39m\u001b[39m\"\u001b[39m,\n\u001b[1;32m   (...)\u001b[0m\n\u001b[0;32m    516\u001b[0m     \u001b[39m*\u001b[39m\u001b[39m*\u001b[39mcheck_params,\n\u001b[0;32m    517\u001b[0m ):\n\u001b[0;32m    518\u001b[0m \u001b[39m    \u001b[39m\u001b[39m\"\"\"Validate input data and set or check the `n_features_in_` attribute.\u001b[39;00m\n\u001b[0;32m    519\u001b[0m \n\u001b[0;32m    520\u001b[0m \u001b[39m    Parameters\u001b[39;00m\n\u001b[1;32m   (...)\u001b[0m\n\u001b[0;32m    578\u001b[0m \u001b[39m        validated.\u001b[39;00m\n\u001b[0;32m    579\u001b[0m \u001b[39m    \"\"\"\u001b[39;00m\n\u001b[1;32m--> 580\u001b[0m     \u001b[39mself\u001b[39;49m\u001b[39m.\u001b[39;49m_check_feature_names(X, reset\u001b[39m=\u001b[39;49mreset)\n\u001b[0;32m    582\u001b[0m     \u001b[39mif\u001b[39;00m y \u001b[39mis\u001b[39;00m \u001b[39mNone\u001b[39;00m \u001b[39mand\u001b[39;00m \u001b[39mself\u001b[39m\u001b[39m.\u001b[39m_get_tags()[\u001b[39m\"\u001b[39m\u001b[39mrequires_y\u001b[39m\u001b[39m\"\u001b[39m]:\n\u001b[0;32m    583\u001b[0m         \u001b[39mraise\u001b[39;00m \u001b[39mValueError\u001b[39;00m(\n\u001b[0;32m    584\u001b[0m             \u001b[39mf\u001b[39m\u001b[39m\"\u001b[39m\u001b[39mThis \u001b[39m\u001b[39m{\u001b[39;00m\u001b[39mself\u001b[39m\u001b[39m.\u001b[39m\u001b[39m__class__\u001b[39m\u001b[39m.\u001b[39m\u001b[39m__name__\u001b[39m\u001b[39m}\u001b[39;00m\u001b[39m estimator \u001b[39m\u001b[39m\"\u001b[39m\n\u001b[0;32m    585\u001b[0m             \u001b[39m\"\u001b[39m\u001b[39mrequires y to be passed, but the target y is None.\u001b[39m\u001b[39m\"\u001b[39m\n\u001b[0;32m    586\u001b[0m         )\n",
      "File \u001b[1;32md:\\Datasets\\Yak_Webshop_1\\yak_env\\Lib\\site-packages\\sklearn\\base.py:507\u001b[0m, in \u001b[0;36mBaseEstimator._check_feature_names\u001b[1;34m(self, X, reset)\u001b[0m\n\u001b[0;32m    502\u001b[0m \u001b[39mif\u001b[39;00m \u001b[39mnot\u001b[39;00m missing_names \u001b[39mand\u001b[39;00m \u001b[39mnot\u001b[39;00m unexpected_names:\n\u001b[0;32m    503\u001b[0m     message \u001b[39m+\u001b[39m\u001b[39m=\u001b[39m (\n\u001b[0;32m    504\u001b[0m         \u001b[39m\"\u001b[39m\u001b[39mFeature names must be in the same order as they were in fit.\u001b[39m\u001b[39m\\n\u001b[39;00m\u001b[39m\"\u001b[39m\n\u001b[0;32m    505\u001b[0m     )\n\u001b[1;32m--> 507\u001b[0m \u001b[39mraise\u001b[39;00m \u001b[39mValueError\u001b[39;00m(message)\n",
      "\u001b[1;31mValueError\u001b[0m: The feature names should match those that were passed during fit.\nFeature names seen at fit time, yet now missing:\n- behavior_calm\n- behavior_negative\n- behavior_playful\n- behavior_positive\n- behavior_special_behavior\n- ...\n"
     ]
    }
   ],
   "source": [
    "# Calculate days since last checkup\n",
    "current_date = datetime.strptime(\"2023-11-29\", \"%Y-%m-%d\")  # Assuming current date for reference\n",
    "test_df['last_checkup_date'] = pd.to_datetime(test_df['last_checkup_date'])\n",
    "test_df['days_since_checkup'] = (current_date - test_df['last_checkup_date']).dt.days\n",
    "\n",
    "# Make predictions for the test data\n",
    "# (Assuming 'model' has already been trained)\n",
    "# Use the model to predict and provide recommendations\n",
    "test_df['prediction'] = model.predict(test_df[['age', 'weight_kg', 'days_since_checkup']])\n",
    "test_df['recommendation'] = ''\n",
    "\n",
    "for behavior in behaviors:\n",
    "    idx = test_df[test_df['behavior'] == behavior].index\n",
    "    recommendation = \"\"\n",
    "    if behavior == 'excellent':\n",
    "        recommendation = \"The yak's health is predicted to be excellent. Maintain regular care and monitoring.\"\n",
    "    elif behavior == 'good':\n",
    "        recommendation = \"The yak's health is predicted to be good. Maintain regular care and observe for any changes.\"\n",
    "    elif behavior == 'fair':\n",
    "        recommendation = \"The yak's health is predicted to be fair. Monitor closely and consider adjusting care if needed.\"\n",
    "    elif behavior == 'poor':\n",
    "        recommendation = \"The yak's health is predicted to be poor. Immediate specialized care and attention are recommended.\"\n",
    "    elif behavior == 'special_health':\n",
    "        recommendation = \"The yak's health is predicted to be special. Specialized care and constant monitoring are necessary.\"\n",
    "    else:\n",
    "        recommendation = \"The yak's health prediction is inconclusive. Further evaluation may be necessary.\"\n",
    "\n",
    "    test_df.loc[idx, 'recommendation'] = recommendation\n",
    "\n",
    "print(test_df)\n"
   ]
  },
  {
   "cell_type": "code",
   "execution_count": 66,
   "metadata": {},
   "outputs": [
    {
     "data": {
      "text/html": [
       "<div>\n",
       "<style scoped>\n",
       "    .dataframe tbody tr th:only-of-type {\n",
       "        vertical-align: middle;\n",
       "    }\n",
       "\n",
       "    .dataframe tbody tr th {\n",
       "        vertical-align: top;\n",
       "    }\n",
       "\n",
       "    .dataframe thead th {\n",
       "        text-align: right;\n",
       "    }\n",
       "</style>\n",
       "<table border=\"1\" class=\"dataframe\">\n",
       "  <thead>\n",
       "    <tr style=\"text-align: right;\">\n",
       "      <th></th>\n",
       "      <th>age</th>\n",
       "      <th>weight_kg</th>\n",
       "      <th>last_checkup_date</th>\n",
       "      <th>behavior</th>\n",
       "    </tr>\n",
       "  </thead>\n",
       "  <tbody>\n",
       "    <tr>\n",
       "      <th>5</th>\n",
       "      <td>9</td>\n",
       "      <td>190.39</td>\n",
       "      <td>2023-02-17</td>\n",
       "      <td>special_behavior</td>\n",
       "    </tr>\n",
       "    <tr>\n",
       "      <th>6</th>\n",
       "      <td>11</td>\n",
       "      <td>164.81</td>\n",
       "      <td>2023-01-03</td>\n",
       "      <td>positive</td>\n",
       "    </tr>\n",
       "    <tr>\n",
       "      <th>7</th>\n",
       "      <td>13</td>\n",
       "      <td>77.73</td>\n",
       "      <td>2023-02-16</td>\n",
       "      <td>positive</td>\n",
       "    </tr>\n",
       "    <tr>\n",
       "      <th>8</th>\n",
       "      <td>27</td>\n",
       "      <td>195.97</td>\n",
       "      <td>2023-03-25</td>\n",
       "      <td>calm</td>\n",
       "    </tr>\n",
       "    <tr>\n",
       "      <th>9</th>\n",
       "      <td>27</td>\n",
       "      <td>89.20</td>\n",
       "      <td>2023-03-08</td>\n",
       "      <td>negative</td>\n",
       "    </tr>\n",
       "  </tbody>\n",
       "</table>\n",
       "</div>"
      ],
      "text/plain": [
       "   age  weight_kg last_checkup_date          behavior\n",
       "5    9     190.39        2023-02-17  special_behavior\n",
       "6   11     164.81        2023-01-03          positive\n",
       "7   13      77.73        2023-02-16          positive\n",
       "8   27     195.97        2023-03-25              calm\n",
       "9   27      89.20        2023-03-08          negative"
      ]
     },
     "execution_count": 66,
     "metadata": {},
     "output_type": "execute_result"
    }
   ],
   "source": [
    "# making data accurate - MISTAKE IN THE DATA SET\n",
    "row_to_change = 4\n",
    "random_df.loc[row_to_change, 'age'] = 100\n",
    "random_df.tail()"
   ]
  },
  {
   "cell_type": "code",
   "execution_count": 70,
   "metadata": {},
   "outputs": [
    {
     "ename": "ValueError",
     "evalue": "The feature names should match those that were passed during fit.\nFeature names must be in the same order as they were in fit.\n",
     "output_type": "error",
     "traceback": [
      "\u001b[1;31m---------------------------------------------------------------------------\u001b[0m",
      "\u001b[1;31mValueError\u001b[0m                                Traceback (most recent call last)",
      "\u001b[1;32md:\\Datasets\\Yak_Webshop_1\\recommendation_analysis.ipynb Cell 14\u001b[0m line \u001b[0;36m1\n\u001b[0;32m      <a href='vscode-notebook-cell:/d%3A/Datasets/Yak_Webshop_1/recommendation_analysis.ipynb#X15sZmlsZQ%3D%3D?line=7'>8</a>\u001b[0m \u001b[39m# Make predictions for the random samples\u001b[39;00m\n\u001b[0;32m      <a href='vscode-notebook-cell:/d%3A/Datasets/Yak_Webshop_1/recommendation_analysis.ipynb#X15sZmlsZQ%3D%3D?line=8'>9</a>\u001b[0m new_data \u001b[39m=\u001b[39m random_df[[\u001b[39m'\u001b[39m\u001b[39mage\u001b[39m\u001b[39m'\u001b[39m, \u001b[39m'\u001b[39m\u001b[39mweight_kg\u001b[39m\u001b[39m'\u001b[39m, \u001b[39m'\u001b[39m\u001b[39mdays_since_checkup\u001b[39m\u001b[39m'\u001b[39m] \u001b[39m+\u001b[39m [col \u001b[39mfor\u001b[39;00m col \u001b[39min\u001b[39;00m random_df\u001b[39m.\u001b[39mcolumns \u001b[39mif\u001b[39;00m col\u001b[39m.\u001b[39mstartswith(\u001b[39m'\u001b[39m\u001b[39mbehavior_\u001b[39m\u001b[39m'\u001b[39m)]]\n\u001b[1;32m---> <a href='vscode-notebook-cell:/d%3A/Datasets/Yak_Webshop_1/recommendation_analysis.ipynb#X15sZmlsZQ%3D%3D?line=9'>10</a>\u001b[0m predictions \u001b[39m=\u001b[39m model\u001b[39m.\u001b[39;49mpredict(new_data)\n\u001b[0;32m     <a href='vscode-notebook-cell:/d%3A/Datasets/Yak_Webshop_1/recommendation_analysis.ipynb#X15sZmlsZQ%3D%3D?line=11'>12</a>\u001b[0m \u001b[39m# Mapping predicted health to recommendation\u001b[39;00m\n\u001b[0;32m     <a href='vscode-notebook-cell:/d%3A/Datasets/Yak_Webshop_1/recommendation_analysis.ipynb#X15sZmlsZQ%3D%3D?line=12'>13</a>\u001b[0m recommendations \u001b[39m=\u001b[39m []\n",
      "File \u001b[1;32md:\\Datasets\\Yak_Webshop_1\\yak_env\\Lib\\site-packages\\sklearn\\tree\\_classes.py:500\u001b[0m, in \u001b[0;36mBaseDecisionTree.predict\u001b[1;34m(self, X, check_input)\u001b[0m\n\u001b[0;32m    477\u001b[0m \u001b[39m\u001b[39m\u001b[39m\"\"\"Predict class or regression value for X.\u001b[39;00m\n\u001b[0;32m    478\u001b[0m \n\u001b[0;32m    479\u001b[0m \u001b[39mFor a classification model, the predicted class for each sample in X is\u001b[39;00m\n\u001b[1;32m   (...)\u001b[0m\n\u001b[0;32m    497\u001b[0m \u001b[39m    The predicted classes, or the predict values.\u001b[39;00m\n\u001b[0;32m    498\u001b[0m \u001b[39m\"\"\"\u001b[39;00m\n\u001b[0;32m    499\u001b[0m check_is_fitted(\u001b[39mself\u001b[39m)\n\u001b[1;32m--> 500\u001b[0m X \u001b[39m=\u001b[39m \u001b[39mself\u001b[39;49m\u001b[39m.\u001b[39;49m_validate_X_predict(X, check_input)\n\u001b[0;32m    501\u001b[0m proba \u001b[39m=\u001b[39m \u001b[39mself\u001b[39m\u001b[39m.\u001b[39mtree_\u001b[39m.\u001b[39mpredict(X)\n\u001b[0;32m    502\u001b[0m n_samples \u001b[39m=\u001b[39m X\u001b[39m.\u001b[39mshape[\u001b[39m0\u001b[39m]\n",
      "File \u001b[1;32md:\\Datasets\\Yak_Webshop_1\\yak_env\\Lib\\site-packages\\sklearn\\tree\\_classes.py:460\u001b[0m, in \u001b[0;36mBaseDecisionTree._validate_X_predict\u001b[1;34m(self, X, check_input)\u001b[0m\n\u001b[0;32m    458\u001b[0m \u001b[39melse\u001b[39;00m:\n\u001b[0;32m    459\u001b[0m     force_all_finite \u001b[39m=\u001b[39m \u001b[39mTrue\u001b[39;00m\n\u001b[1;32m--> 460\u001b[0m X \u001b[39m=\u001b[39m \u001b[39mself\u001b[39;49m\u001b[39m.\u001b[39;49m_validate_data(\n\u001b[0;32m    461\u001b[0m     X,\n\u001b[0;32m    462\u001b[0m     dtype\u001b[39m=\u001b[39;49mDTYPE,\n\u001b[0;32m    463\u001b[0m     accept_sparse\u001b[39m=\u001b[39;49m\u001b[39m\"\u001b[39;49m\u001b[39mcsr\u001b[39;49m\u001b[39m\"\u001b[39;49m,\n\u001b[0;32m    464\u001b[0m     reset\u001b[39m=\u001b[39;49m\u001b[39mFalse\u001b[39;49;00m,\n\u001b[0;32m    465\u001b[0m     force_all_finite\u001b[39m=\u001b[39;49mforce_all_finite,\n\u001b[0;32m    466\u001b[0m )\n\u001b[0;32m    467\u001b[0m \u001b[39mif\u001b[39;00m issparse(X) \u001b[39mand\u001b[39;00m (\n\u001b[0;32m    468\u001b[0m     X\u001b[39m.\u001b[39mindices\u001b[39m.\u001b[39mdtype \u001b[39m!=\u001b[39m np\u001b[39m.\u001b[39mintc \u001b[39mor\u001b[39;00m X\u001b[39m.\u001b[39mindptr\u001b[39m.\u001b[39mdtype \u001b[39m!=\u001b[39m np\u001b[39m.\u001b[39mintc\n\u001b[0;32m    469\u001b[0m ):\n\u001b[0;32m    470\u001b[0m     \u001b[39mraise\u001b[39;00m \u001b[39mValueError\u001b[39;00m(\u001b[39m\"\u001b[39m\u001b[39mNo support for np.int64 index based sparse matrices\u001b[39m\u001b[39m\"\u001b[39m)\n",
      "File \u001b[1;32md:\\Datasets\\Yak_Webshop_1\\yak_env\\Lib\\site-packages\\sklearn\\base.py:580\u001b[0m, in \u001b[0;36mBaseEstimator._validate_data\u001b[1;34m(self, X, y, reset, validate_separately, cast_to_ndarray, **check_params)\u001b[0m\n\u001b[0;32m    509\u001b[0m \u001b[39mdef\u001b[39;00m \u001b[39m_validate_data\u001b[39m(\n\u001b[0;32m    510\u001b[0m     \u001b[39mself\u001b[39m,\n\u001b[0;32m    511\u001b[0m     X\u001b[39m=\u001b[39m\u001b[39m\"\u001b[39m\u001b[39mno_validation\u001b[39m\u001b[39m\"\u001b[39m,\n\u001b[1;32m   (...)\u001b[0m\n\u001b[0;32m    516\u001b[0m     \u001b[39m*\u001b[39m\u001b[39m*\u001b[39mcheck_params,\n\u001b[0;32m    517\u001b[0m ):\n\u001b[0;32m    518\u001b[0m \u001b[39m    \u001b[39m\u001b[39m\"\"\"Validate input data and set or check the `n_features_in_` attribute.\u001b[39;00m\n\u001b[0;32m    519\u001b[0m \n\u001b[0;32m    520\u001b[0m \u001b[39m    Parameters\u001b[39;00m\n\u001b[1;32m   (...)\u001b[0m\n\u001b[0;32m    578\u001b[0m \u001b[39m        validated.\u001b[39;00m\n\u001b[0;32m    579\u001b[0m \u001b[39m    \"\"\"\u001b[39;00m\n\u001b[1;32m--> 580\u001b[0m     \u001b[39mself\u001b[39;49m\u001b[39m.\u001b[39;49m_check_feature_names(X, reset\u001b[39m=\u001b[39;49mreset)\n\u001b[0;32m    582\u001b[0m     \u001b[39mif\u001b[39;00m y \u001b[39mis\u001b[39;00m \u001b[39mNone\u001b[39;00m \u001b[39mand\u001b[39;00m \u001b[39mself\u001b[39m\u001b[39m.\u001b[39m_get_tags()[\u001b[39m\"\u001b[39m\u001b[39mrequires_y\u001b[39m\u001b[39m\"\u001b[39m]:\n\u001b[0;32m    583\u001b[0m         \u001b[39mraise\u001b[39;00m \u001b[39mValueError\u001b[39;00m(\n\u001b[0;32m    584\u001b[0m             \u001b[39mf\u001b[39m\u001b[39m\"\u001b[39m\u001b[39mThis \u001b[39m\u001b[39m{\u001b[39;00m\u001b[39mself\u001b[39m\u001b[39m.\u001b[39m\u001b[39m__class__\u001b[39m\u001b[39m.\u001b[39m\u001b[39m__name__\u001b[39m\u001b[39m}\u001b[39;00m\u001b[39m estimator \u001b[39m\u001b[39m\"\u001b[39m\n\u001b[0;32m    585\u001b[0m             \u001b[39m\"\u001b[39m\u001b[39mrequires y to be passed, but the target y is None.\u001b[39m\u001b[39m\"\u001b[39m\n\u001b[0;32m    586\u001b[0m         )\n",
      "File \u001b[1;32md:\\Datasets\\Yak_Webshop_1\\yak_env\\Lib\\site-packages\\sklearn\\base.py:507\u001b[0m, in \u001b[0;36mBaseEstimator._check_feature_names\u001b[1;34m(self, X, reset)\u001b[0m\n\u001b[0;32m    502\u001b[0m \u001b[39mif\u001b[39;00m \u001b[39mnot\u001b[39;00m missing_names \u001b[39mand\u001b[39;00m \u001b[39mnot\u001b[39;00m unexpected_names:\n\u001b[0;32m    503\u001b[0m     message \u001b[39m+\u001b[39m\u001b[39m=\u001b[39m (\n\u001b[0;32m    504\u001b[0m         \u001b[39m\"\u001b[39m\u001b[39mFeature names must be in the same order as they were in fit.\u001b[39m\u001b[39m\\n\u001b[39;00m\u001b[39m\"\u001b[39m\n\u001b[0;32m    505\u001b[0m     )\n\u001b[1;32m--> 507\u001b[0m \u001b[39mraise\u001b[39;00m \u001b[39mValueError\u001b[39;00m(message)\n",
      "\u001b[1;31mValueError\u001b[0m: The feature names should match those that were passed during fit.\nFeature names must be in the same order as they were in fit.\n"
     ]
    }
   ],
   "source": [
    "# Calculate days since last checkup\n",
    "current_date = datetime.strptime(\"2023-11-25\", \"%Y-%m-%d\")  # Assuming current date for reference\n",
    "test_df['days_since_checkup'] = (current_date - test_df['last_checkup_date']).dt.days\n",
    "\n",
    "# Convert 'behavior' for the new yaks into one-hot encoded columns\n",
    "test_df = pd.get_dummies(test_df, columns=['behavior'], prefix='behavior')\n",
    "\n",
    "# Make predictions for the random samples\n",
    "new_data = test_df[['age', 'weight_kg', 'days_since_checkup'] + [col for col in test_df.columns if col.startswith('behavior_')]]\n",
    "predictions = model.predict(new_data)\n",
    "\n",
    "# Mapping predicted health to recommendation\n",
    "recommendations = []\n",
    "for prediction in predictions:\n",
    "    if prediction == 'excellent':\n",
    "        recommendations.append(\"The yak's health is predicted to be excellent. Maintain regular care and monitoring.\")\n",
    "    elif prediction == 'good':\n",
    "        recommendations.append(\"The yak's health is predicted to be good. Maintain regular care and observe for any changes.\")\n",
    "    elif prediction == 'fair':\n",
    "        recommendations.append(\"The yak's health is predicted to be fair. Monitor closely and consider adjusting care if needed.\")\n",
    "    elif prediction == 'poor':\n",
    "        recommendations.append(\"The yak's health is predicted to be poor. Immediate specialized care and attention are recommended.\")\n",
    "    elif prediction == 'special_health':\n",
    "        recommendations.append(\"The yak's health is predicted to be special. Specialized care and constant monitoring are necessary.\")\n",
    "    else:\n",
    "        recommendations.append(\"The yak's health prediction is inconclusive. Further evaluation may be necessary.\")\n",
    "\n",
    "# Print predictions and recommendations for each random sample\n",
    "for i, (prediction, recommendation) in enumerate(zip(predictions, recommendations)):\n",
    "    print(f\"Prediction for Yak {i + 1}: {prediction}\")\n",
    "    print(f\"Recommendation for Yak {i + 1}: {recommendation}\")\n",
    "    print()\n"
   ]
  }
 ],
 "metadata": {
  "kernelspec": {
   "display_name": "yak_env",
   "language": "python",
   "name": "python3"
  },
  "language_info": {
   "codemirror_mode": {
    "name": "ipython",
    "version": 3
   },
   "file_extension": ".py",
   "mimetype": "text/x-python",
   "name": "python",
   "nbconvert_exporter": "python",
   "pygments_lexer": "ipython3",
   "version": "3.11.6"
  }
 },
 "nbformat": 4,
 "nbformat_minor": 2
}
