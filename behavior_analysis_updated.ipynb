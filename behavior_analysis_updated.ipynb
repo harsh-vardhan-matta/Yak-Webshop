{
 "cells": [
  {
   "cell_type": "code",
   "execution_count": 1,
   "metadata": {},
   "outputs": [
    {
     "data": {
      "text/html": [
       "<div>\n",
       "<style scoped>\n",
       "    .dataframe tbody tr th:only-of-type {\n",
       "        vertical-align: middle;\n",
       "    }\n",
       "\n",
       "    .dataframe tbody tr th {\n",
       "        vertical-align: top;\n",
       "    }\n",
       "\n",
       "    .dataframe thead th {\n",
       "        text-align: right;\n",
       "    }\n",
       "</style>\n",
       "<table border=\"1\" class=\"dataframe\">\n",
       "  <thead>\n",
       "    <tr style=\"text-align: right;\">\n",
       "      <th></th>\n",
       "      <th>name</th>\n",
       "      <th>age</th>\n",
       "      <th>health</th>\n",
       "      <th>behavior</th>\n",
       "      <th>environment</th>\n",
       "      <th>diet</th>\n",
       "      <th>social_interactions</th>\n",
       "      <th>seasonal_changes</th>\n",
       "    </tr>\n",
       "  </thead>\n",
       "  <tbody>\n",
       "    <tr>\n",
       "      <th>0</th>\n",
       "      <td>Betty-1</td>\n",
       "      <td>100.0</td>\n",
       "      <td>special_health</td>\n",
       "      <td>special_behavior</td>\n",
       "      <td>forest</td>\n",
       "      <td>berries</td>\n",
       "      <td>group</td>\n",
       "      <td>winter</td>\n",
       "    </tr>\n",
       "    <tr>\n",
       "      <th>1</th>\n",
       "      <td>Betty-2</td>\n",
       "      <td>5.9</td>\n",
       "      <td>excellent</td>\n",
       "      <td>positive</td>\n",
       "      <td>cave</td>\n",
       "      <td>grasses</td>\n",
       "      <td>group</td>\n",
       "      <td>winter</td>\n",
       "    </tr>\n",
       "    <tr>\n",
       "      <th>2</th>\n",
       "      <td>Betty-3</td>\n",
       "      <td>18.2</td>\n",
       "      <td>fair</td>\n",
       "      <td>stubborn</td>\n",
       "      <td>forest</td>\n",
       "      <td>herbs</td>\n",
       "      <td>pair</td>\n",
       "      <td>spring</td>\n",
       "    </tr>\n",
       "    <tr>\n",
       "      <th>3</th>\n",
       "      <td>Betty-4</td>\n",
       "      <td>23.3</td>\n",
       "      <td>fair</td>\n",
       "      <td>stubborn</td>\n",
       "      <td>forest</td>\n",
       "      <td>grasses</td>\n",
       "      <td>solitary</td>\n",
       "      <td>spring</td>\n",
       "    </tr>\n",
       "    <tr>\n",
       "      <th>4</th>\n",
       "      <td>Betty-5</td>\n",
       "      <td>26.8</td>\n",
       "      <td>poor</td>\n",
       "      <td>negative</td>\n",
       "      <td>cave</td>\n",
       "      <td>shrubs</td>\n",
       "      <td>pair</td>\n",
       "      <td>spring</td>\n",
       "    </tr>\n",
       "  </tbody>\n",
       "</table>\n",
       "</div>"
      ],
      "text/plain": [
       "      name    age          health          behavior environment     diet  \\\n",
       "0  Betty-1  100.0  special_health  special_behavior      forest  berries   \n",
       "1  Betty-2    5.9       excellent          positive        cave  grasses   \n",
       "2  Betty-3   18.2            fair          stubborn      forest    herbs   \n",
       "3  Betty-4   23.3            fair          stubborn      forest  grasses   \n",
       "4  Betty-5   26.8            poor          negative        cave   shrubs   \n",
       "\n",
       "  social_interactions seasonal_changes  \n",
       "0               group           winter  \n",
       "1               group           winter  \n",
       "2                pair           spring  \n",
       "3            solitary           spring  \n",
       "4                pair           spring  "
      ]
     },
     "execution_count": 1,
     "metadata": {},
     "output_type": "execute_result"
    }
   ],
   "source": [
    "import pandas as pd\n",
    "import json\n",
    "import os\n",
    "\n",
    "# Load the JSON dataset\n",
    "path = \"D:\\Datasets\\Yak_Webshop_1\\json_files\"\n",
    "file_path = os.path.join(path, 'sample_diverse_dataset_updated.json')\n",
    "\n",
    "# Load the dataset from the JSON file\n",
    "with open(file_path,'r') as file:\n",
    "    data = json.load(file)\n",
    "\n",
    "# Convert JSON to DataFrame\n",
    "df = pd.DataFrame(data['herd'])\n",
    "\n",
    "# Display the DataFrame to understand its structure and content\n",
    "df.head()  # Preview the first few rows"
   ]
  },
  {
   "cell_type": "code",
   "execution_count": 2,
   "metadata": {},
   "outputs": [
    {
     "name": "stdout",
     "output_type": "stream",
     "text": [
      "Categorical Features: ['name', 'health', 'behavior', 'environment', 'diet', 'social_interactions', 'seasonal_changes']\n",
      "\n",
      "Numerical Features: ['age']\n"
     ]
    }
   ],
   "source": [
    "# get categorical and numerical columns\n",
    "categorical_features = df.select_dtypes(include=['object', 'category']).columns.tolist()\n",
    "numerical_features = df.select_dtypes(include=['int64', 'float64']).columns.tolist()\n",
    "print(\"Categorical Features:\", categorical_features)\n",
    "print(\"\\nNumerical Features:\", numerical_features)"
   ]
  },
  {
   "cell_type": "code",
   "execution_count": 3,
   "metadata": {},
   "outputs": [
    {
     "name": "stdout",
     "output_type": "stream",
     "text": [
      "Distribution of target variable:\n",
      "behavior\n",
      "stubborn            36\n",
      "playful             16\n",
      "positive            15\n",
      "calm                13\n",
      "special_behavior    10\n",
      "negative            10\n",
      "Name: count, dtype: int64\n"
     ]
    }
   ],
   "source": [
    "import pandas as pd\n",
    "from sklearn.model_selection import train_test_split\n",
    "from sklearn.preprocessing import LabelEncoder\n",
    "from sklearn.ensemble import RandomForestClassifier\n",
    "from sklearn.metrics import accuracy_score, classification_report\n",
    "\n",
    "# Load the dataset\n",
    "file_path = \"D:\\Datasets\\Yak_Webshop_1\\json_files\\sample_diverse_dataset_updated.json\"\n",
    "with open(file_path, 'r') as file:\n",
    "    data = json.load(file)\n",
    "\n",
    "# Convert JSON to DataFrame\n",
    "df = pd.DataFrame(data['herd'])\n",
    "\n",
    "# Encoding categorical columns\n",
    "label_encoder = LabelEncoder()\n",
    "df['health'] = label_encoder.fit_transform(df['health'])\n",
    "df['environment'] = label_encoder.fit_transform(df['environment'])\n",
    "df['diet'] = label_encoder.fit_transform(df['diet'])\n",
    "df['social_interactions'] = label_encoder.fit_transform(df['social_interactions'])\n",
    "df['seasonal_changes'] = label_encoder.fit_transform(df['seasonal_changes'])\n",
    "\n",
    "# Defining features and target variable\n",
    "features = ['age', 'health', 'environment', 'diet', 'social_interactions', 'seasonal_changes']\n",
    "target = 'behavior'\n",
    "\n",
    "X = df[features]\n",
    "y = df[target]\n",
    "\n",
    "# Check distribution of target variable\n",
    "print(\"Distribution of target variable:\")\n",
    "print(y.value_counts())\n"
   ]
  },
  {
   "cell_type": "code",
   "execution_count": 4,
   "metadata": {},
   "outputs": [],
   "source": [
    "# Splitting the data into training and testing sets\n",
    "X_train, X_test, y_train, y_test = train_test_split(X, y, test_size=0.2, random_state=42)\n",
    "\n",
    "# Initialize the model (Random Forest Classifier)\n",
    "model = RandomForestClassifier(n_estimators=100, random_state=42)\n",
    "\n",
    "# Train the model\n",
    "model.fit(X_train, y_train)\n",
    "\n",
    "# Make predictions\n",
    "predictions = model.predict(X_test)"
   ]
  },
  {
   "cell_type": "code",
   "execution_count": 5,
   "metadata": {},
   "outputs": [
    {
     "name": "stdout",
     "output_type": "stream",
     "text": [
      "Accuracy: 0.9500\n",
      "\n",
      "F1 Score: 0.9513\n",
      "\n",
      "Classification Report:\n",
      "                  precision    recall  f1-score   support\n",
      "\n",
      "            calm       1.00      1.00      1.00         1\n",
      "        negative       0.75      1.00      0.86         3\n",
      "         playful       1.00      1.00      1.00         1\n",
      "        positive       1.00      1.00      1.00         2\n",
      "special_behavior       1.00      0.83      0.91         6\n",
      "        stubborn       1.00      1.00      1.00         7\n",
      "\n",
      "        accuracy                           0.95        20\n",
      "       macro avg       0.96      0.97      0.96        20\n",
      "    weighted avg       0.96      0.95      0.95        20\n",
      "\n"
     ]
    }
   ],
   "source": [
    "from sklearn.metrics import accuracy_score, classification_report, f1_score, confusion_matrix\n",
    "\n",
    "# Evaluate the model\n",
    "accuracy = accuracy_score(y_test, predictions)\n",
    "f1 = f1_score(y_test, predictions, average='weighted')\n",
    "print(f\"Accuracy: {accuracy:.4f}\")\n",
    "print(f\"\\nF1 Score: {f1:.4f}\")\n",
    "# Classification report\n",
    "print(\"\\nClassification Report:\")\n",
    "print(classification_report(y_test, predictions))"
   ]
  },
  {
   "cell_type": "markdown",
   "metadata": {},
   "source": [
    "Calm Behavior\n",
    "- Precision: 1.00 | Recall: 1.00 | F1-Score: 1.00 | Support: 1\n",
    "- Summary: Perfect precision, recall, and F1-score for \"Calm\" behavior, \n",
    "         but with a low support of only 1 instance.\n",
    "\n",
    "Negative Behavior\n",
    "- Precision: 0.75 | Recall: 1.00 | F1-Score: 0.86 | Support: 3\n",
    "- Summary: Adequate recall with relatively lower precision for \"Negative\" behavior.\n",
    "\n",
    "Playful Behavior\n",
    "- Precision: 1.00 | Recall: 1.00 | F1-Score: 1.00 | Support: 1\n",
    "- Summary: Perfect precision, recall, and F1-score for \"Playful\" behavior, but with a low support of only 1 instance.\n",
    "\n",
    "Positive Behavior\n",
    "- Precision: 1.00 | Recall: 1.00 | F1-Score: 1.00 | Support: 2\n",
    "- Summary: Perfect precision, recall, and F1-score for \"Positive\" behavior with slightly higher support.\n",
    "\n",
    "Special Behavior\n",
    "- Precision: 1.00 | Recall: 0.83 | F1-Score: 0.91 | Support: 6\n",
    "- Summary: High precision but slightly lower recall for \"Special Behavior,\" indicating some misclassification.\n",
    "\n",
    "Stubborn Behavior\n",
    "- Precision: 1.00 | Recall: 1.00 | F1-Score: 1.00 | Support: 7\n",
    "- Summary: Perfect precision, recall, and F1-score for \"Stubborn\" behavior with higher support.\n",
    "\n",
    "Overall/Average\n",
    "- Weighted Avg. Precision: 0.96\n",
    "- Weighted Avg. Recall: 0.95\n",
    "- Weighted Avg. F1-Score: 0.95\n",
    "- Total Support: 20\n",
    "\n",
    "Summary: Strong overall performance across behavior categories with high weighted average precision, \n",
    "         recall, and F1-score. The support is distributed across different categories.\n"
   ]
  },
  {
   "cell_type": "code",
   "execution_count": 6,
   "metadata": {},
   "outputs": [
    {
     "data": {
      "image/png": "[encoded data removed]",
      "text/plain": [
       "<Figure size 800x600 with 1 Axes>"
      ]
     },
     "metadata": {},
     "output_type": "display_data"
    }
   ],
   "source": [
    "# Confusion matrix\n",
    "import matplotlib.pyplot as plt\n",
    "import seaborn as sns\n",
    "\n",
    "conf_matrix = confusion_matrix(y_test, predictions)\n",
    "plt.figure(figsize=(8, 6))\n",
    "sns.heatmap(conf_matrix, annot=True, cmap='Blues', fmt='d', cbar=False)\n",
    "plt.xlabel('Predicted')\n",
    "plt.ylabel('True')\n",
    "plt.title('Confusion Matrix')\n",
    "plt.show()"
   ]
  }
 ],
 "metadata": {
  "kernelspec": {
   "display_name": "yak_env",
   "language": "python",
   "name": "python3"
  },
  "language_info": {
   "codemirror_mode": {
    "name": "ipython",
    "version": 3
   },
   "file_extension": ".py",
   "mimetype": "text/x-python",
   "name": "python",
   "nbconvert_exporter": "python",
   "pygments_lexer": "ipython3",
   "version": "3.11.6"
  }
 },
 "nbformat": 4,
 "nbformat_minor": 2
}
