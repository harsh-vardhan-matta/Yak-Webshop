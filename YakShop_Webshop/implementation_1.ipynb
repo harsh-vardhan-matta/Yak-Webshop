{
 "cells": [
  {
   "cell_type": "code",
   "execution_count": 87,
   "metadata": {},
   "outputs": [],
   "source": [
    "import json\n",
    "from datetime import timedelta, datetime"
   ]
  },
  {
   "cell_type": "code",
   "execution_count": 88,
   "metadata": {},
   "outputs": [
    {
     "name": "stdout",
     "output_type": "stream",
     "text": [
      "Implemented & Understood this function\n"
     ]
    }
   ],
   "source": [
    "# Function to read the JSON file containing herd information\n",
    "def read_herd_information(file_path):\n",
    "    with open(file_path, 'r') as file:\n",
    "        herd_data = json.load(file)\n",
    "    return herd_data\n",
    "print(\"Implemented & Understood this function\")"
   ]
  },
  {
   "cell_type": "code",
   "execution_count": 89,
   "metadata": {},
   "outputs": [],
   "source": [
    "def update_herd_after_t(herd_info, elapsed_days):\n",
    "    updated_herd = herd_info.copy()\n",
    "    print(\"Yak Details Before Elapsed Time:\")\n",
    "    count = 0\n",
    "    for yak in updated_herd['herd']:\n",
    "        if count < 3:\n",
    "            print(f\"Yak: {yak['name']}\")\n",
    "            print(f\"Age before elapsed time: {yak['age']}\")\n",
    "            print(f\"Last shaved age before elapsed time: {yak.get('last_shaved_age', 'Not Available')}\")\n",
    "            count += 1\n",
    "        else: \n",
    "            break\n",
    "\n",
    "    for yak in updated_herd['herd']:\n",
    "        yak['age'] += elapsed_days / 365  # Assuming a year has 365 days\n",
    "        yak['last_shaved_age'] = round(yak['age'] - 1, 1)  # Assuming shaving happens yearly\n",
    "\n",
    "    print(\"\\nYak Details After Elapsed Time:\")\n",
    "    count_here = 0\n",
    "    for yak in updated_herd['herd']:\n",
    "        if count_here < 3:    \n",
    "            print(f\"Yak: {yak['name']}\")\n",
    "            print(f\"Age after elapsed time: {yak['age']}\")\n",
    "            print(f\"Last shaved age after elapsed time: {yak.get('last_shaved_age', 'Not Available')}\")\n",
    "            count_here +=1\n",
    "        else:\n",
    "            break\n",
    "    return updated_herd"
   ]
  },
  {
   "cell_type": "code",
   "execution_count": 90,
   "metadata": {},
   "outputs": [],
   "source": [
    "# Function to calculate stock and herd management after T days\n",
    "def simulate_stock_and_herd_after_t(herd_info, elapsed_days, stock_data):\n",
    "    # Extract initial stock values\n",
    "    initial_milk_stock = stock_data['milk']\n",
    "    initial_skins_stock = stock_data['skins']\n",
    "\n",
    "    # Placeholder calculation for milk and skins stock after T days\n",
    "    \n",
    "    milk_stock_after_t = initial_milk_stock + (elapsed_days * 10) \n",
    "    skins_stock_after_t = initial_skins_stock + (elapsed_days // 5)  # Placeholder calculation\n",
    "    \n",
    "    # Update the herd information after T days (e.g., simulate aging or changes)\n",
    "    updated_herd_info = update_herd_after_t(herd_info, elapsed_days)\n",
    "\n",
    "    return milk_stock_after_t, skins_stock_after_t, updated_herd_info"
   ]
  },
  {
   "cell_type": "code",
   "execution_count": 91,
   "metadata": {},
   "outputs": [
    {
     "data": {
      "text/plain": [
       "'\\nmilk_stock_after_t = initial_milk_stock + (elapsed_days * 10) \\nskins_stock_after_t = initial_skins_stock + (elapsed_days // 5)\\n\\nFirst placeholder logic assumes that, over each day (elapsed_days), \\nthere might be an arbitrary increase in milk production or accumulation.\\n\\nIn a real-world scenario, calculating stock changes might involve various factors, \\nsuch as production rates, consumption, external supply, and other dynamic elements\\nthat influence the stock.\\n\\nFor a realistic model, you would need to use actual data or formulas based on the specific factors\\ninfluencing milk production, consumption,\\nand any other relevant variables that impact the stock over time.\\n'"
      ]
     },
     "execution_count": 91,
     "metadata": {},
     "output_type": "execute_result"
    }
   ],
   "source": [
    "'''\n",
    "milk_stock_after_t = initial_milk_stock + (elapsed_days * 10) \n",
    "skins_stock_after_t = initial_skins_stock + (elapsed_days // 5)\n",
    "\n",
    "First placeholder logic assumes that, over each day (elapsed_days), \n",
    "there might be an arbitrary increase in milk production or accumulation.\n",
    "\n",
    "In a real-world scenario, calculating stock changes might involve various factors, \n",
    "such as production rates, consumption, external supply, and other dynamic elements\n",
    "that influence the stock.\n",
    "\n",
    "For a realistic model, you would need to use actual data or formulas based on the specific factors\n",
    "influencing milk production, consumption,\n",
    "and any other relevant variables that impact the stock over time.\n",
    "'''"
   ]
  },
  {
   "cell_type": "code",
   "execution_count": 92,
   "metadata": {},
   "outputs": [],
   "source": [
    "# Function for order fulfillment checking stock availability\n",
    "def order_fulfillment(milk_stock, skins_stock, requested_milk, requested_skins):\n",
    "    # Check if requested stock is available\n",
    "    if milk_stock >= requested_milk and skins_stock >= requested_skins:\n",
    "        # Order can be fully fulfilled\n",
    "        return {\"status\": 200, \"message\": \"Order Fulfilled\", \"details\": f\"Ordered {requested_milk} units of milk and {requested_skins} skins\"}\n",
    "    elif milk_stock > 0 and skins_stock > 0:\n",
    "        # Order partially fulfilled\n",
    "        milk_fulfilled = min(milk_stock, requested_milk)\n",
    "        skins_fulfilled = min(skins_stock, requested_skins)\n",
    "        return {\n",
    "            \"status\": 206,\n",
    "            \"message\": \"Partial Order Fulfilled\",\n",
    "            \"details\": f\"Partially fulfilled with {milk_fulfilled} units of milk and {skins_fulfilled} skins\"\n",
    "        }\n",
    "    else:\n",
    "        # Order cannot be fulfilled\n",
    "        return {\"status\": 404, \"message\": \"Insufficient Stock\", \"details\": \"Stock unavailable for the order\"}"
   ]
  },
  {
   "cell_type": "code",
   "execution_count": 1,
   "metadata": {},
   "outputs": [
    {
     "ename": "NameError",
     "evalue": "name 'read_herd_information' is not defined",
     "output_type": "error",
     "traceback": [
      "\u001b[1;31m---------------------------------------------------------------------------\u001b[0m",
      "\u001b[1;31mNameError\u001b[0m                                 Traceback (most recent call last)",
      "\u001b[1;32md:\\Datasets\\LLMs\\YakShop_Webshop\\implementation_1.ipynb Cell 7\u001b[0m line \u001b[0;36m4\n\u001b[0;32m      <a href='vscode-notebook-cell:/d%3A/Datasets/LLMs/YakShop_Webshop/implementation_1.ipynb#W6sZmlsZQ%3D%3D?line=1'>2</a>\u001b[0m file_path \u001b[39m=\u001b[39m \u001b[39m'\u001b[39m\u001b[39msample_diverse_dataset.json\u001b[39m\u001b[39m'\u001b[39m\n\u001b[0;32m      <a href='vscode-notebook-cell:/d%3A/Datasets/LLMs/YakShop_Webshop/implementation_1.ipynb#W6sZmlsZQ%3D%3D?line=2'>3</a>\u001b[0m stock_data \u001b[39m=\u001b[39m {\u001b[39m\"\u001b[39m\u001b[39mmilk\u001b[39m\u001b[39m\"\u001b[39m: \u001b[39m1104.480\u001b[39m, \u001b[39m\"\u001b[39m\u001b[39mskins\u001b[39m\u001b[39m\"\u001b[39m: \u001b[39m3\u001b[39m}\n\u001b[1;32m----> <a href='vscode-notebook-cell:/d%3A/Datasets/LLMs/YakShop_Webshop/implementation_1.ipynb#W6sZmlsZQ%3D%3D?line=3'>4</a>\u001b[0m herd_information \u001b[39m=\u001b[39m read_herd_information(file_path)\n\u001b[0;32m      <a href='vscode-notebook-cell:/d%3A/Datasets/LLMs/YakShop_Webshop/implementation_1.ipynb#W6sZmlsZQ%3D%3D?line=4'>5</a>\u001b[0m elapsed_time_days \u001b[39m=\u001b[39m \u001b[39m30\u001b[39m  \u001b[39m# Example: elapsed time in days\u001b[39;00m\n\u001b[0;32m      <a href='vscode-notebook-cell:/d%3A/Datasets/LLMs/YakShop_Webshop/implementation_1.ipynb#W6sZmlsZQ%3D%3D?line=6'>7</a>\u001b[0m \u001b[39m# Calculate stock and herd management after T days\u001b[39;00m\n",
      "\u001b[1;31mNameError\u001b[0m: name 'read_herd_information' is not defined"
     ]
    }
   ],
   "source": [
    "# Example usage\n",
    "file_path = 'sample_diverse_dataset.json'\n",
    "stock_data = {\"milk\": 1104.480, \"skins\": 3}\n",
    "herd_information = read_herd_information(file_path)\n",
    "elapsed_time_days = 30  # Example: elapsed time in days\n",
    "\n",
    "# Calculate stock and herd management after T days\n",
    "milk_stock_after_t, skins_stock_after_t, updated_herd_info = simulate_stock_and_herd_after_t(herd_information, elapsed_time_days, stock_data)\n",
    "print(\"\\n- - - - - - - - - - - - - - - - - - - - - - - - - - \")\n",
    "print(f\"** Milk Stock after {elapsed_time_days} days **: {milk_stock_after_t}\")\n",
    "print(f\"** Skins Stock after {elapsed_time_days} days **: {skins_stock_after_t}\")\n",
    "print(\"\\n- - - - - - - - - - - - - - - - - - - - - - - - - - \")\n",
    "print(\"\\n** Updated Herd Information after\", elapsed_time_days, \"days for the first three records: **\")\n",
    "\n",
    "# Printing information for the first three records\n",
    "for i, yak_info in enumerate(updated_herd_info['herd']):\n",
    "    if i >= 3:  # Break loop after the third record\n",
    "        break\n",
    "    print(f\"Yak {i + 1}:\")\n",
    "    print(json.dumps(yak_info, indent=2))\n",
    "\n",
    "# Example Order Fulfillment\n",
    "requested_milk_units = 1500\n",
    "requested_skins_units = 3\n",
    "order_status = order_fulfillment(milk_stock_after_t, \n",
    "                                 skins_stock_after_t, \n",
    "                                 requested_milk_units, \n",
    "                                 requested_skins_units)\n",
    "\n",
    "print(\"\\nOrder Fulfillment Status:\")\n",
    "print(json.dumps(order_status, indent=2))\n"
   ]
  },
  {
   "cell_type": "markdown",
   "metadata": {},
   "source": [
    "1. Develop anamolies\n",
    "2. Check the code\n",
    "3. Make this automated asking the user to input the stuff "
   ]
  },
  {
   "cell_type": "markdown",
   "metadata": {},
   "source": []
  }
 ],
 "metadata": {
  "kernelspec": {
   "display_name": "base",
   "language": "python",
   "name": "python3"
  },
  "language_info": {
   "codemirror_mode": {
    "name": "ipython",
    "version": 3
   },
   "file_extension": ".py",
   "mimetype": "text/x-python",
   "name": "python",
   "nbconvert_exporter": "python",
   "pygments_lexer": "ipython3",
   "version": "3.11.5"
  }
 },
 "nbformat": 4,
 "nbformat_minor": 2
}
