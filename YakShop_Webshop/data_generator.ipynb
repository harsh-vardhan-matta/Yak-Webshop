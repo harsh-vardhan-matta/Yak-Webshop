{
 "cells": [
  {
   "cell_type": "markdown",
   "metadata": {},
   "source": [
    "Creating Random Datasets:\n",
    "1. Sample_json.json\n",
    "2. sample_diverse_dataset.json"
   ]
  },
  {
   "cell_type": "code",
   "execution_count": 7,
   "metadata": {},
   "outputs": [
    {
     "name": "stdout",
     "output_type": "stream",
     "text": [
      "Updated JSON files with anomalies in health, age, and added behavior attribute.\n"
     ]
    }
   ],
   "source": [
    "import json\n",
    "import random\n",
    "import string\n",
    "\n",
    "# Function to generate yak data with incremental names and ages and introduce anomalies\n",
    "def generate_incremental_yak(starting_index, num_samples):\n",
    "    yak_data = []\n",
    "    for i in range(num_samples):\n",
    "        name = f\"Betty-{starting_index + i}\"\n",
    "        age = round(random.uniform(1, 15), 1)\n",
    "        sex = random.choice(['f', 'm'])\n",
    "        # Introduce a constant anomaly in age\n",
    "        if i % 10 == 0:  # Every 10th entry will have an anomaly\n",
    "            age = 100  # Constant anomaly set to 25 years\n",
    "        yak_data.append({\"name\": name, \"age\": age, \"sex\": sex})\n",
    "    return yak_data\n",
    "\n",
    "# Function to generate yak data with consistent name and age for diverse dataset and introduce anomalies\n",
    "def generate_consistent_diverse_yak(starting_index, num_samples, sample_json_data):\n",
    "    options = [\"calm\", \"stubborn\", \"playful\", \"negative\", \"positive\"]\n",
    "    yak_data = []\n",
    "    for i in range(num_samples):\n",
    "        name = f\"Betty-{starting_index + i}\"\n",
    "        # Assigning the same age as in Sample_JSON\n",
    "        age = sample_json_data['herd'][i]['age']\n",
    "        # Introduce anomalies in health data\n",
    "        health = random.choice(['good', 'excellent', 'fair', 'poor'])\n",
    "        if i % 8 == 0:  # Every 8th entry will have an anomaly\n",
    "            health = 'unknown'\n",
    "        if age > 80:\n",
    "            health = \"good\"\n",
    "        behavior = random.choice(options)  # Randomly select behavior from given options\n",
    "        yak_data.append({\"name\": name, \"age\": age, \"health\": health, \"behavior\": behavior})\n",
    "    return yak_data\n",
    "\n",
    "# Generate 100 samples for Sample JSON with incremental names and ages and anomalies in age\n",
    "sample_json_data = {\"herd\": generate_incremental_yak(1, 100)}\n",
    "with open('sample_json.json', 'w') as json_file:\n",
    "    json.dump(sample_json_data, json_file, indent=2)\n",
    "\n",
    "# Generate 100 samples for Sample Diverse Dataset with consistent name, age, anomalies in health, and behavior attribute\n",
    "sample_diverse_data = {\"herd\": generate_consistent_diverse_yak(1, 100, sample_json_data)}\n",
    "with open('sample_diverse_dataset.json', 'w') as json_file:\n",
    "    json.dump(sample_diverse_data, json_file, indent=2)\n",
    "\n",
    "print(\"Updated JSON files with anomalies in health, age, and added behavior attribute.\")\n"
   ]
  },
  {
   "cell_type": "markdown",
   "metadata": {},
   "source": [
    "Creating Random  - > \"sample_order_data.json\""
   ]
  },
  {
   "cell_type": "code",
   "execution_count": 4,
   "metadata": {},
   "outputs": [],
   "source": [
    "import json\n",
    "import random\n",
    "\n",
    "# Given list of names\n",
    "given_names = [\"Virat\", \"Sehwag\", \"Sachin\", \"Dravid\", \"Rohit\", \"Rahul\"]\n",
    "\n",
    "# Sample Order Data\n",
    "order_data = {\n",
    "    \"customer\": \"Medvedev\",\n",
    "    \"order\": {\n",
    "        \"milk\": 1100,\n",
    "        \"skins\": 3\n",
    "    }\n",
    "}\n",
    "\n",
    "# Generate 100 random customer names using given names\n",
    "def generate_random_name():\n",
    "    return random.choice(given_names) + \"_\" + ''.join(random.choices(\"0123\", k=3))\n",
    "\n",
    "# Create 100 random customer names and order data\n",
    "sampled_data = [\n",
    "    {\n",
    "        \"customer\": generate_random_name(),\n",
    "        \"order\": {key: random.randint(0, 2000) for key in order_data[\"order\"]}\n",
    "    } for _ in range(100)\n",
    "]\n",
    "\n",
    "# Save the sampled data back to the same JSON file\n",
    "with open('sample_order_data.json', 'w') as file:\n",
    "    json.dump({\"samples\": sampled_data}, file, indent=2)\n"
   ]
  },
  {
   "cell_type": "markdown",
   "metadata": {},
   "source": [
    "Creating Random - >  \"sample_stock_data.json\""
   ]
  },
  {
   "cell_type": "code",
   "execution_count": 8,
   "metadata": {},
   "outputs": [],
   "source": [
    "import json\n",
    "import random\n",
    "\n",
    "# Sample Stock Data\n",
    "stock_data = {\n",
    "    \"milk\": 1417.38,\n",
    "    \"skins\": 4\n",
    "}\n",
    "\n",
    "# Generate 100 random samples for stock data\n",
    "sampled_stock_data = [\n",
    "    {\n",
    "        \"milk\": round(random.uniform(1000, 2000), 2),\n",
    "        \"skins\": random.randint(0, 10)\n",
    "    } for _ in range(100)\n",
    "]\n",
    "\n",
    "# Save the sampled stock data back to the same JSON file\n",
    "with open('sample_stock_data.json', 'w') as file:\n",
    "    json.dump({\"stock_samples\": sampled_stock_data}, file, indent=2)"
   ]
  },
  {
   "cell_type": "markdown",
   "metadata": {},
   "source": [
    "Converting \"sample_diverse_dataset.json\" to csv file for query \"sample_diverse_dataset.csv\""
   ]
  },
  {
   "cell_type": "code",
   "execution_count": 10,
   "metadata": {},
   "outputs": [
    {
     "name": "stdout",
     "output_type": "stream",
     "text": [
      "Data written to CSV files: sample_diverse_dataset.csv\n"
     ]
    }
   ],
   "source": [
    "import json\n",
    "import csv\n",
    "\n",
    "# Step 1: Read JSON files\n",
    "def load_json(file_path):\n",
    "    with open(file_path, 'r') as file:\n",
    "        data = json.load(file)\n",
    "    return data\n",
    "\n",
    "# Load sample_diverse_dataset.json, sample_stock_data.json, and sample_order_data.json\n",
    "diverse_data_path = 'sample_diverse_dataset.json'\n",
    "diverse_data = load_json(diverse_data_path)\n",
    "\n",
    "# Write data to separate CSV files\n",
    "def write_to_csv(data, csv_file):\n",
    "    with open(csv_file, 'w', newline='', encoding='utf-8') as file:\n",
    "        writer = csv.DictWriter(file, fieldnames=data['herd'][0].keys())\n",
    "        writer.writeheader()\n",
    "        writer.writerows(data['herd'])\n",
    "\n",
    "# Write data to separate CSV files\n",
    "write_to_csv(diverse_data, 'sample_diverse_dataset.csv')\n",
    "print(\"Data written to CSV files: sample_diverse_dataset.csv\")\n"
   ]
  },
  {
   "cell_type": "markdown",
   "metadata": {},
   "source": [
    "Converting \"sample_order_data.json\" to csv file for query \"sample_order_data.csv\" for NLP Query "
   ]
  },
  {
   "cell_type": "code",
   "execution_count": 14,
   "metadata": {},
   "outputs": [
    {
     "name": "stdout",
     "output_type": "stream",
     "text": [
      "CSV file 'sample_order_data.csv' created successfully.\n"
     ]
    }
   ],
   "source": [
    "import csv\n",
    "import json\n",
    "\n",
    "# Load sample_order_data.json\n",
    "diverse_data_path = 'sample_order_data.json'\n",
    "\n",
    "# calling the above defined function\n",
    "diverse_data = load_json(diverse_data_path)\n",
    "\n",
    "# Extracting relevant information from JSON for CSV\n",
    "csv_data = []\n",
    "for sample in diverse_data['samples']:\n",
    "    customer = sample['customer']\n",
    "    milk = sample['order']['milk']\n",
    "    skins = sample['order']['skins']\n",
    "    csv_data.append({'customer': customer, 'milk': milk, 'skins': skins})\n",
    "\n",
    "# Writing extracted data to a CSV file\n",
    "with open('sample_order_data.csv', 'w', newline='') as csvfile:\n",
    "    fieldnames = ['customer', 'milk', 'skins']\n",
    "    writer = csv.DictWriter(csvfile, fieldnames=fieldnames)\n",
    "\n",
    "    writer.writeheader()\n",
    "    for row in csv_data:\n",
    "        writer.writerow(row)\n",
    "\n",
    "print(\"CSV file 'sample_order_data.csv' created successfully.\")"
   ]
  },
  {
   "cell_type": "markdown",
   "metadata": {},
   "source": [
    "Converting \"sample_stock_data.json\" to csv file for query \"sample_stock_data.csv\" for NLP Query "
   ]
  },
  {
   "cell_type": "code",
   "execution_count": 16,
   "metadata": {},
   "outputs": [
    {
     "name": "stdout",
     "output_type": "stream",
     "text": [
      "CSV file 'sample_stock_data.csv' created successfully.\n"
     ]
    }
   ],
   "source": [
    "import csv\n",
    "import json\n",
    "\n",
    "# Load sample_stock_data.json\n",
    "stock_data_path = 'sample_stock_data.json'\n",
    "\n",
    "# calling the above defined function\n",
    "stock_data = load_json(stock_data_path)\n",
    "\n",
    "# Extracting relevant information from JSON for CSV\n",
    "csv_data = []\n",
    "for sample in stock_data['stock_samples']:\n",
    "    milk = sample['milk']\n",
    "    skins = sample['skins']\n",
    "    csv_data.append({'milk': milk, 'skins': skins})\n",
    "\n",
    "# Writing extracted data to a CSV file\n",
    "with open('sample_stock_data.csv', 'w', newline='') as csvfile:\n",
    "    fieldnames = ['milk', 'skins']\n",
    "    writer = csv.DictWriter(csvfile, fieldnames=fieldnames)\n",
    "\n",
    "    writer.writeheader()\n",
    "    writer.writerows(csv_data)\n",
    "\n",
    "print(\"CSV file 'sample_stock_data.csv' created successfully.\")\n"
   ]
  }
 ],
 "metadata": {
  "kernelspec": {
   "display_name": "base",
   "language": "python",
   "name": "python3"
  },
  "language_info": {
   "codemirror_mode": {
    "name": "ipython",
    "version": 3
   },
   "file_extension": ".py",
   "mimetype": "text/x-python",
   "name": "python",
   "nbconvert_exporter": "python",
   "pygments_lexer": "ipython3",
   "version": "3.11.5"
  }
 },
 "nbformat": 4,
 "nbformat_minor": 2
}
