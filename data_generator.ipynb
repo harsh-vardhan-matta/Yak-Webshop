{
 "cells": [
  {
   "cell_type": "code",
   "execution_count": 8,
   "metadata": {},
   "outputs": [
    {
     "name": "stdout",
     "output_type": "stream",
     "text": [
      "Updated JSON files with 100 random samples each.\n"
     ]
    }
   ],
   "source": [
    "import json\n",
    "import random\n",
    "import string\n",
    "\n",
    "# Function to generate yak data with incremental names and ages\n",
    "def generate_incremental_yak(starting_index, num_samples):\n",
    "    yak_data = []\n",
    "    for i in range(num_samples):\n",
    "        name = f\"Betty-{starting_index + i}\"\n",
    "        age = round(random.uniform(1, 15), 1)\n",
    "        sex = random.choice(['f', 'm'])\n",
    "        yak_data.append({\"name\": name, \"age\": age, \"sex\": sex})\n",
    "    return yak_data\n",
    "\n",
    "# Function to generate yak data with consistent name and age for diverse dataset\n",
    "def generate_consistent_diverse_yak(starting_index, num_samples):\n",
    "    yak_data = []\n",
    "    for i in range(num_samples):\n",
    "        name = f\"Betty-{starting_index + i}\"\n",
    "        # Assigning the same age as in Sample_JSON\n",
    "        age = sample_json_data['herd'][i]['age']\n",
    "        health = random.choice(['good', 'excellent', 'fair', 'poor'])\n",
    "        behavior = random.choice(['calm', 'playful', 'stubborn', 'aggressive'])\n",
    "        yak_data.append({\"name\": name, \"age\": age, \"health\": health, \"behavior\": behavior})\n",
    "    return yak_data\n",
    "\n",
    "# Function to generate random stock data\n",
    "def generate_random_stock():\n",
    "    random_milk = round(random.uniform(800, 1500), 2)\n",
    "    random_skins = random.randint(1, 10)\n",
    "    return {\"milk\": random_milk, \"skins\": random_skins}\n",
    "\n",
    "# Generate 100 samples for Sample JSON with incremental names and ages\n",
    "sample_json_data = {\"herd\": generate_incremental_yak(1, 100)}\n",
    "with open('sample_json.json', 'w') as json_file:\n",
    "    json.dump(sample_json_data, json_file, indent=2)\n",
    "\n",
    "# Generate 100 samples for Sample Diverse Dataset with consistent name and age\n",
    "sample_diverse_data = {\"herd\": generate_consistent_diverse_yak(1, 100)}\n",
    "with open('sample_diverse_dataset.json', 'w') as json_file:\n",
    "    json.dump(sample_diverse_data, json_file, indent=2)\n",
    "\n",
    "# Generate 100 samples for Sample Stock Data\n",
    "sample_stock_data = generate_random_stock()\n",
    "with open('sample_stock_data.json', 'w') as json_file:\n",
    "    json.dump(sample_stock_data, json_file, indent=2)\n",
    "\n",
    "print(\"Updated JSON files with 100 random samples each.\")\n"
   ]
  }
 ],
 "metadata": {
  "kernelspec": {
   "display_name": "base",
   "language": "python",
   "name": "python3"
  },
  "language_info": {
   "codemirror_mode": {
    "name": "ipython",
    "version": 3
   },
   "file_extension": ".py",
   "mimetype": "text/x-python",
   "name": "python",
   "nbconvert_exporter": "python",
   "pygments_lexer": "ipython3",
   "version": "3.11.5"
  }
 },
 "nbformat": 4,
 "nbformat_minor": 2
}
