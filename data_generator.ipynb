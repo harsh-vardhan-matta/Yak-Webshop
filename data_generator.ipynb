{
 "cells": [
  {
   "cell_type": "markdown",
   "metadata": {},
   "source": [
    "Creating Random Datasets:\n",
    "1. Sample_json.json\n",
    "2. sample_diverse_dataset.json"
   ]
  },
  {
   "cell_type": "code",
   "execution_count": 3,
   "metadata": {},
   "outputs": [
    {
     "name": "stdout",
     "output_type": "stream",
     "text": [
      "Updated JSON files with anomalies in health, age, and added behavior attribute.\n"
     ]
    }
   ],
   "source": [
    "import json\n",
    "import random\n",
    "import string\n",
    "\n",
    "# Function to generate yak data with incremental names and ages and introduce anomalies\n",
    "def generate_incremental_yak(starting_index, num_samples):\n",
    "    yak_data = []\n",
    "    for i in range(num_samples):\n",
    "        name = f\"Betty-{starting_index + i}\"\n",
    "        age = round(random.uniform(1, 30), 1)\n",
    "        sex = random.choice(['f', 'm'])\n",
    "        # Introduce a constant anomaly in age\n",
    "        if i % 10 == 0:  # Every 10th entry will have an anomaly\n",
    "            age = 100  # Constant anomaly set to 25 years\n",
    "        yak_data.append({\"name\": name, \"age\": age, \"sex\": sex})\n",
    "    return yak_data\n",
    "\n",
    "# behaviour = [\"calm\", \"stubborn\", \"playful\", \"negative\", \"positive\"]\n",
    "# health = [['good', 'excellent', 'fair', 'poor', 'unknown']\n",
    "\n",
    "# Function to generate yak data with consistent name and age for diverse dataset and introduce anomalies\n",
    "def generate_consistent_diverse_yak(starting_index, num_samples, sample_json_data):\n",
    "    yak_data = []\n",
    "    for i in range(num_samples):\n",
    "        name = f\"Betty-{starting_index + i}\"\n",
    "        age = sample_json_data['herd'][i]['age']\n",
    "        \n",
    "        # Assigning health based on age\n",
    "        if age < 10:\n",
    "            health = 'excellent'\n",
    "        elif 10 <= age <= 15:\n",
    "            health = 'good'\n",
    "        elif 15 < age <= 25:\n",
    "            health = 'fair'\n",
    "        elif 25 < age <= 30:\n",
    "            health = 'poor'        \n",
    "        else:\n",
    "            health = 'special_health'\n",
    "        \n",
    "        # Assigning behavior based on age\n",
    "        if age < 5:\n",
    "            behavior = 'playful'\n",
    "        elif 5 <= age < 10:\n",
    "            behavior = 'positive'\n",
    "        elif 10 <= age < 15:\n",
    "            behavior = 'calm'\n",
    "        elif 15 <= age < 25:\n",
    "            behavior = 'stubborn'\n",
    "        elif 25 <= age <= 30:\n",
    "            behavior = 'negative'\n",
    "        else:\n",
    "            behavior = 'special_behavior'  # Default behavior if age exceeds 30\n",
    "        \n",
    "        yak_data.append({\"name\": name, \"age\": age, \"health\": health, \"behavior\": behavior})\n",
    "    \n",
    "    return yak_data\n",
    "\n",
    "# Generate 100 samples for Sample JSON with incremental names and ages and anomalies in age\n",
    "sample_json_data = {\"herd\": generate_incremental_yak(1, 100)}\n",
    "with open('sample_json.json', 'w') as json_file:\n",
    "    json.dump(sample_json_data, json_file, indent=2)\n",
    "\n",
    "# Generate 100 samples for Sample Diverse Dataset with consistent name, age, anomalies in health, and behavior attribute\n",
    "sample_diverse_data = {\"herd\": generate_consistent_diverse_yak(1, 100, sample_json_data)}\n",
    "with open('sample_diverse_dataset.json', 'w') as json_file:\n",
    "    json.dump(sample_diverse_data, json_file, indent=2)\n",
    "\n",
    "print(\"Updated JSON files with anomalies in health, age, and added behavior attribute.\")\n"
   ]
  },
  {
   "cell_type": "markdown",
   "metadata": {},
   "source": [
    "Creating Random  - > \"sample_order_data.json\""
   ]
  },
  {
   "cell_type": "code",
   "execution_count": 11,
   "metadata": {},
   "outputs": [],
   "source": [
    "import json\n",
    "import random\n",
    "from datetime import datetime, timedelta\n",
    "\n",
    "# Given list of names\n",
    "given_names = [\"Virat\", \"Sehwag\", \"Sachin\", \"Dravid\", \"Rohit\", \"Rahul\"]\n",
    "\n",
    "# Sample Order Data\n",
    "order_data = {\n",
    "    \"customer\": \"Medvedev\",\n",
    "    \"order\": {\n",
    "        \"milk\": 1100,\n",
    "        \"skins\": 3\n",
    "    }\n",
    "}\n",
    "\n",
    "# Generate random date within a specific range\n",
    "def generate_random_date():\n",
    "    start_date = datetime(2023, 1, 1)  # Start date\n",
    "    end_date = datetime(2023, 12, 31)  # End date\n",
    "    random_date = start_date + timedelta(days=random.randint(0, (end_date - start_date).days))\n",
    "    return random_date.strftime(\"%Y-%m-%d\")  # Format date as string\n",
    "\n",
    "# Generate 100 random customer names, order data, and dates\n",
    "sampled_data = [\n",
    "    {\n",
    "        \"customer\": generate_random_name(),\n",
    "        \"order\": {key: random.randint(0, 2000) for key in order_data[\"order\"]},\n",
    "        \"date\": generate_random_date()\n",
    "    } for _ in range(100)\n",
    "]\n",
    "\n",
    "# Save the sampled data back to the same JSON file\n",
    "with open('sample_order_data.json', 'w') as file:\n",
    "    json.dump({\"samples\": sampled_data}, file, indent=2)\n"
   ]
  },
  {
   "cell_type": "markdown",
   "metadata": {},
   "source": [
    "Creating Random - >  \"sample_stock_data.json\""
   ]
  },
  {
   "cell_type": "code",
   "execution_count": 5,
   "metadata": {},
   "outputs": [],
   "source": [
    "import json\n",
    "import random\n",
    "\n",
    "# Sample Stock Data\n",
    "stock_data = {\n",
    "    \"milk\": 1417.38,\n",
    "    \"skins\": 4\n",
    "}\n",
    "\n",
    "# Generate 100 random samples for stock data\n",
    "sampled_stock_data = [\n",
    "    {\n",
    "        \"milk\": round(random.uniform(1000, 2000), 2),\n",
    "        \"skins\": random.randint(0, 10)\n",
    "    } for _ in range(100)\n",
    "]\n",
    "\n",
    "# Save the sampled stock data back to the same JSON file\n",
    "with open('sample_stock_data.json', 'w') as file:\n",
    "    json.dump({\"stock_samples\": sampled_stock_data}, file, indent=2)"
   ]
  },
  {
   "cell_type": "markdown",
   "metadata": {},
   "source": [
    "Converting \"sample_diverse_dataset.json\" to csv file for query \"sample_diverse_dataset.csv\""
   ]
  },
  {
   "cell_type": "code",
   "execution_count": 7,
   "metadata": {},
   "outputs": [
    {
     "name": "stdout",
     "output_type": "stream",
     "text": [
      "Data written to CSV files: sample_diverse_dataset.csv\n"
     ]
    }
   ],
   "source": [
    "import json\n",
    "import csv\n",
    "\n",
    "# Step 1: Read JSON files\n",
    "def load_json(file_path):\n",
    "    with open(file_path, 'r') as file:\n",
    "        data = json.load(file)\n",
    "    return data\n",
    "\n",
    "# Load sample_diverse_dataset.json, sample_stock_data.json, and sample_order_data.json\n",
    "diverse_data_path = 'D:\\Datasets\\Yak_Webshop_1\\json_files\\sample_diverse_dataset.json'\n",
    "diverse_data = load_json(diverse_data_path)\n",
    "\n",
    "# Write data to separate CSV files\n",
    "def write_to_csv(data, csv_file):\n",
    "    with open(csv_file, 'w', newline='', encoding='utf-8') as file:\n",
    "        writer = csv.DictWriter(file, fieldnames=data['herd'][0].keys())\n",
    "        writer.writeheader()\n",
    "        writer.writerows(data['herd'])\n",
    "\n",
    "# Write data to separate CSV files\n",
    "write_to_csv(diverse_data, 'sample_diverse_dataset.csv')\n",
    "print(\"Data written to CSV files: sample_diverse_dataset.csv\")\n"
   ]
  },
  {
   "cell_type": "markdown",
   "metadata": {},
   "source": [
    "Converting \"sample_order_data.json\" to csv file for query \"sample_order_data.csv\" for NLP Query "
   ]
  },
  {
   "cell_type": "code",
   "execution_count": 13,
   "metadata": {},
   "outputs": [
    {
     "name": "stdout",
     "output_type": "stream",
     "text": [
      "CSV file 'sample_order_data.csv' created successfully.\n"
     ]
    }
   ],
   "source": [
    "import csv\n",
    "import json\n",
    "\n",
    "# Load sample_order_data.json\n",
    "diverse_data_path = 'D:\\Datasets\\Yak_Webshop_1\\json_files\\sample_order_data.json'\n",
    "\n",
    "# calling the above defined function\n",
    "diverse_data = load_json(diverse_data_path)\n",
    "\n",
    "# Extracting relevant information from JSON for CSV\n",
    "csv_data = []\n",
    "for sample in diverse_data['samples']:\n",
    "    customer = sample['customer']\n",
    "    milk = sample['order']['milk']\n",
    "    skins = sample['order']['skins']\n",
    "    date = sample['date']\n",
    "    csv_data.append({'customer': customer, 'date': date, 'milk': milk, 'skins': skins})\n",
    "\n",
    "# Writing extracted data to a CSV file\n",
    "with open('sample_order_data.csv', 'w', newline='') as csvfile:\n",
    "    fieldnames = ['customer', 'date', 'milk', 'skins']\n",
    "    writer = csv.DictWriter(csvfile, fieldnames=fieldnames)\n",
    "\n",
    "    writer.writeheader()\n",
    "    for row in csv_data:\n",
    "        writer.writerow(row)\n",
    "\n",
    "print(\"CSV file 'sample_order_data.csv' created successfully.\")"
   ]
  },
  {
   "cell_type": "markdown",
   "metadata": {},
   "source": [
    "Converting \"sample_stock_data.json\" to csv file for query \"sample_stock_data.csv\" for NLP Query "
   ]
  },
  {
   "cell_type": "code",
   "execution_count": 9,
   "metadata": {},
   "outputs": [
    {
     "name": "stdout",
     "output_type": "stream",
     "text": [
      "CSV file 'sample_stock_data.csv' created successfully.\n"
     ]
    }
   ],
   "source": [
    "import csv\n",
    "import json\n",
    "\n",
    "# Load sample_stock_data.json\n",
    "stock_data_path = 'D:\\Datasets\\Yak_Webshop_1\\json_files\\sample_stock_data.json'\n",
    "\n",
    "# calling the above defined function\n",
    "stock_data = load_json(stock_data_path)\n",
    "\n",
    "# Extracting relevant information from JSON for CSV\n",
    "csv_data = []\n",
    "for sample in stock_data['stock_samples']:\n",
    "    milk = sample['milk']\n",
    "    skins = sample['skins']\n",
    "    csv_data.append({'milk': milk, 'skins': skins})\n",
    "\n",
    "# Writing extracted data to a CSV file\n",
    "with open('sample_stock_data.csv', 'w', newline='') as csvfile:\n",
    "    fieldnames = ['milk', 'skins']\n",
    "    writer = csv.DictWriter(csvfile, fieldnames=fieldnames)\n",
    "\n",
    "    writer.writeheader()\n",
    "    writer.writerows(csv_data)\n",
    "\n",
    "print(\"CSV file 'sample_stock_data.csv' created successfully.\")"
   ]
  },
  {
   "cell_type": "markdown",
   "metadata": {},
   "source": [
    "Converting sample_json.json into csv"
   ]
  },
  {
   "cell_type": "code",
   "execution_count": 1,
   "metadata": {},
   "outputs": [
    {
     "name": "stdout",
     "output_type": "stream",
     "text": [
      "Data written to CSV files: sample_json.csv\n"
     ]
    }
   ],
   "source": [
    "import json\n",
    "import csv\n",
    "\n",
    "# Step 1: Read JSON files\n",
    "def load_json(file_path):\n",
    "    with open(file_path, 'r') as file:\n",
    "        data = json.load(file)\n",
    "    return data\n",
    "\n",
    "# Load sample_diverse_dataset.json, sample_stock_data.json, and sample_order_data.json\n",
    "diverse_data_path = 'D:\\Datasets\\Yak_Webshop_1\\json_files\\sample_json.json'\n",
    "diverse_data = load_json(diverse_data_path)\n",
    "\n",
    "# Write data to separate CSV files\n",
    "def write_to_csv(data, csv_file):\n",
    "    with open(csv_file, 'w', newline='', encoding='utf-8') as file:\n",
    "        writer = csv.DictWriter(file, fieldnames=data['herd'][0].keys())\n",
    "        writer.writeheader()\n",
    "        writer.writerows(data['herd'])\n",
    "\n",
    "# Write data to separate CSV files\n",
    "write_to_csv(diverse_data, 'sample_json.csv')\n",
    "print(\"Data written to CSV files: sample_json.csv\")\n"
   ]
  }
 ],
 "metadata": {
  "kernelspec": {
   "display_name": "base",
   "language": "python",
   "name": "python3"
  },
  "language_info": {
   "codemirror_mode": {
    "name": "ipython",
    "version": 3
   },
   "file_extension": ".py",
   "mimetype": "text/x-python",
   "name": "python",
   "nbconvert_exporter": "python",
   "pygments_lexer": "ipython3",
   "version": "3.11.6"
  }
 },
 "nbformat": 4,
 "nbformat_minor": 2
}
